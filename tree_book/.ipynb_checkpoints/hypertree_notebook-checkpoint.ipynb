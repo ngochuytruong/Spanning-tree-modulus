{
 "cells": [
  {
   "cell_type": "markdown",
   "id": "305ee1b5-d2cb-4b3f-8005-b882c4c38d6c",
   "metadata": {},
   "source": [
    "# Modulus for hypertrees"
   ]
  },
  {
   "cell_type": "code",
   "execution_count": 25,
   "id": "9744a623-8cd5-4db0-a015-d2a81274c765",
   "metadata": {},
   "outputs": [],
   "source": [
    "from modulus_tools.basic_algorithm import matrix_modulus, modulus\n",
    "import itertools\n",
    "from itertools import combinations, chain\n",
    "import numpy as np\n",
    "from IPython.display import Image, display"
   ]
  },
  {
   "cell_type": "markdown",
   "id": "1cc1f031-1abc-432a-9571-711b899f96ee",
   "metadata": {},
   "source": [
    "## Hypergraphs\n",
    "\n",
    "A **hypergraph** is an ordered pair $H = (V, E)$ where:\n",
    "\n",
    "- $V$ is a finite set whose elements are called **vertices**, and  \n",
    "- $E$ is a multiset (or set) of nonempty subsets of $V$, whose elements are called **hyperedges**"
   ]
  },
  {
   "cell_type": "markdown",
   "id": "2ab44b14-c0e9-4c09-85cc-216161cbb652",
   "metadata": {},
   "source": [
    "<div align=\"center\">\n",
    "\n",
    "```{figure} images/si-hyp.png\n",
    ":width: 400px\n",
    ":class: no-caption-number\n",
    "\n",
    "*A hypergraph with 5 vertices and 4 hyperedges.*\n",
    "```"
   ]
  },
  {
   "cell_type": "markdown",
   "id": "185fc07a-f59f-4153-a6fc-3c2272e34403",
   "metadata": {},
   "source": [
    "## Hypertrees\n",
    "\n",
    "Let $H = (V, E)$ be a hypergraph. A subset \\( F \\subseteq E \\) is a **hyperforest** if it is possible to select two distinct vertices from each hyperedge \\( e \\in F \\) such that the chosen pairs, when regarded as graph edges on $V$ , form a forest.  \n",
    "If that representing forest can be made into a spanning tree, then \\( F \\) is a **hypertree**."
   ]
  },
  {
   "cell_type": "markdown",
   "id": "81fb49aa-c12f-4321-b9d4-43bd587a1e9d",
   "metadata": {},
   "source": [
    "<div align=\"center\">\n",
    "\n",
    "```{figure} images/si-tree.png\n",
    ":width: 400px\n",
    ":class: no-caption-number\n",
    "\n",
    "*A hypertree with a spanning tree.*\n",
    "```"
   ]
  },
  {
   "cell_type": "markdown",
   "id": "9e88137a-d111-4b48-8277-7b74876fb993",
   "metadata": {},
   "source": [
    "## Equivalent definition of hypertrees \n",
    "\n",
    "For a non-empty set $X \\subseteq V$ and a subset \n",
    "$F \\subseteq E$, the set $F[X]$ represents the collection of hyperedges in $F$ that \n",
    "are entirely contained in $X$. The hypergraph $(X, E[X])$ is called the *subhypergraph \n",
    "induced by the vertex subset* $X$ and is denoted by $H[X]$.\n",
    "\n",
    "A set $F \\subseteq E$ is a **hyperforest** if $|F[X]| \\le |X| - 1$ for every \n",
    "non-empty subset $X \\subseteq V$. A hyperforest $F$ is a **hypertree** of $H$ \n",
    "if $|F| = |V| - 1$."
   ]
  },
  {
   "cell_type": "markdown",
   "id": "3369b032-e405-4f32-8d7f-fbea71a37bb3",
   "metadata": {},
   "source": [
    "## Usage matrix\n",
    "Next, we are going to find all indicator vectors of all hypertrees."
   ]
  },
  {
   "cell_type": "code",
   "execution_count": 26,
   "id": "6ed41107-ccfa-4e8a-92c3-52a04ce70a92",
   "metadata": {},
   "outputs": [],
   "source": [
    "# Helper function to get the powerset of a list\n",
    "def powerset(iterable):\n",
    "    \"powerset([1,2,3]) --> [(), (1,), (2,), (3,), (1,2), (1,3), (2,3), (1,2,3)]\"\n",
    "    s = list(iterable)\n",
    "    return chain.from_iterable(combinations(s, r) for r in range(len(s) + 1))\n",
    "# Output the hypertree family\n",
    "def trees(V,E):\n",
    "    m = len(E)\n",
    "    n = len(V)\n",
    "    dN = []\n",
    "    for J in combinations(range(len(E)), len(V)-1):\n",
    "        Jgood = True\n",
    "        for X in list(powerset(V))[1:]:\n",
    "            # Check the subsets of E indexed by J\n",
    "            if not len([F for F in [E[i] for i in J] if set(F).issubset(X)]) <= len(X) - 1:\n",
    "                Jgood = False\n",
    "                break\n",
    "        if Jgood:\n",
    "            row = np.zeros(len(E))\n",
    "            for i in J:\n",
    "                row[i % m] = row[i % m]+1\n",
    "            dN.append(row)\n",
    "    N = np.unique(dN, axis=0) \n",
    "    return(N)"
   ]
  },
  {
   "cell_type": "code",
   "execution_count": 27,
   "id": "6394f2f6-c52e-4620-a3ca-bc90649d516b",
   "metadata": {},
   "outputs": [
    {
     "name": "stdout",
     "output_type": "stream",
     "text": [
      "Usage matrix:\n",
      "[[0. 1. 1. 0. 1. 1. 1.]\n",
      " [0. 1. 1. 1. 0. 1. 1.]\n",
      " [0. 1. 1. 1. 1. 0. 1.]\n",
      " [1. 0. 1. 0. 1. 1. 1.]\n",
      " [1. 0. 1. 1. 0. 1. 1.]\n",
      " [1. 0. 1. 1. 1. 0. 1.]\n",
      " [1. 1. 0. 0. 1. 1. 1.]\n",
      " [1. 1. 0. 1. 0. 1. 1.]\n",
      " [1. 1. 0. 1. 1. 0. 1.]\n",
      " [1. 1. 1. 0. 0. 1. 1.]\n",
      " [1. 1. 1. 0. 1. 0. 1.]\n",
      " [1. 1. 1. 0. 1. 1. 0.]\n",
      " [1. 1. 1. 1. 0. 1. 0.]\n",
      " [1. 1. 1. 1. 1. 0. 0.]]\n"
     ]
    }
   ],
   "source": [
    "# Define the hyperedge set E of the hypergraph H = (V, E)\n",
    "# Each hyperedge is a subset of vertices in V\\# Define the number of vertices\n",
    "n = 6\n",
    "V = range(n)\n",
    "E = [[0,1,2],[0,1,3],[1,2,3],[3,5],[3,4],[4,5],[0,5,2]]\n",
    "T = trees(V, E)\n",
    "print('Usage matrix:')\n",
    "print(T)"
   ]
  },
  {
   "cell_type": "markdown",
   "id": "0dc35c0b-45a7-4533-9dfd-eff7f056ffb9",
   "metadata": {},
   "source": [
    "## Hypertree modulus\n",
    "\n",
    "we compute 2-modulus and 1-modulus of the hypertree family"
   ]
  },
  {
   "cell_type": "code",
   "execution_count": 28,
   "id": "d774edc9-f33f-4c0e-adf2-f2e6340087a0",
   "metadata": {},
   "outputs": [
    {
     "name": "stdout",
     "output_type": "stream",
     "text": [
      "=== 2-Modulus Results ===\n",
      "Modulus value (mod₂): 0.2791\n",
      "Optimal density η*   : [0.75 0.75 0.75 0.67 0.67 0.67 0.75]\n",
      "\n",
      "=== 1-Modulus Results ===\n",
      "Modulus value (mod₁): 1.3333\n"
     ]
    }
   ],
   "source": [
    "# Compute the 2-modulus (p = 2)\n",
    "mod2, rho2, _ = matrix_modulus(T, 2)\n",
    "print(\"=== 2-Modulus Results ===\")\n",
    "print(f\"Modulus value (mod₂): {mod2:.4f}\")\n",
    "print(f\"Optimal density η*   : {np.round(rho2 / mod2, 2)}\\n\")\n",
    "\n",
    "# Compute the 1-modulus (p = 1)\n",
    "mod1, rho1, _ = matrix_modulus(T, 1)\n",
    "print(\"=== 1-Modulus Results ===\")\n",
    "print(f\"Modulus value (mod₁): {mod1:.4f}\")\n"
   ]
  },
  {
   "cell_type": "markdown",
   "id": "a45c6cee-5780-44c3-b7fe-3846caaabc8e",
   "metadata": {},
   "source": [
    "## Strength and fractional arboricity\n",
    "\n",
    "Let $\\mathcal{P} = \\{V_1, \\ldots, V_k\\}$ be a partition of the vertex set $V$, and \n",
    "let $F \\subseteq E$. We define $\\delta(\\mathcal{P})$ as the set of hyperedges that intersect at least two parts of the partition $\\mathcal{P}$. The notation \n",
    "$|\\mathcal{P}|$ represents the number of parts in the partition $\\mathcal{P}$.  \n",
    "\n",
    "Following the concepts of strength and fractional arboricity in graphs, we define \n",
    "the *strength* of a hypergraph $H$ as  \n",
    "\n",
    "$$\n",
    "S(H) := \\min \\left\\{ \\frac{|\\delta(\\mathcal{P})|}{|\\mathcal{P}| - 1} :\n",
    "\\mathcal{P} \\text{ is a partition of } V, \\ |\\mathcal{P}| \\ge 2 \\right\\},\n",
    "$$\n",
    "\n",
    "and define the *fractional arboricity* of $H$ as  \n",
    "\n",
    "$$\n",
    "D(H) := \\max \\left\\{ \\frac{|E[X]|}{|X| - 1} : X \\subseteq V, \\ |X| \\ge 2 \\right\\}.\n",
    "$$"
   ]
  },
  {
   "cell_type": "code",
   "execution_count": 29,
   "id": "93440c69-099a-4abb-bed3-1c546b16c4c9",
   "metadata": {},
   "outputs": [],
   "source": [
    "## Compute the strength of a hypergraph\n",
    "## All partition of a set\n",
    "def partitions(set_):\n",
    "    if len(set_) == 1:\n",
    "        yield [list(set_)]\n",
    "        return\n",
    "    first_element = set_[0]\n",
    "    for smaller_partition in partitions(set_[1:]):\n",
    "        # Insert first element into each part of the partition\n",
    "        for i in range(len(smaller_partition)):\n",
    "            new_partition = smaller_partition[:i] + [[first_element] + smaller_partition[i]] + smaller_partition[i+1:]\n",
    "            yield new_partition\n",
    "        # Or create a new part with the first element <class 'generator'>\n",
    "        yield [[first_element]] + smaller_partition\n",
    "\n",
    "def strength(V,E, sigma = None):\n",
    "    if sigma is None:\n",
    "        sigma = [1]*len(E)\n",
    "    strength = sum(sigma)/(len(V)-1)\n",
    "    for p in list(partitions(V)):\n",
    "        if len(p)>1:\n",
    "            if sum([sigma[i] for i in range(len(E)) if not any(set(E[i]).issubset(b) for b in p)])/(len(p)-1) < strength:\n",
    "               strength = sum([sigma[i] for i in range(len(E)) if not any(set(E[i]).issubset(b) for b in p)]) /(len(p)-1)\n",
    "    return strength\n",
    "def fractional_arboricity(V, E, sigma=None):\n",
    "    \"\"\"\n",
    "    Compute the weighted fractional arboricity D_sigma(H) of a hypergraph H = (V, E):\n",
    "        D_sigma(H) = max_{X ⊆ V, |X| ≥ 2} σ(E[X]) / (|X| - 1)\n",
    "    where σ(E[X]) = sum of weights of edges fully contained in X.\n",
    "\n",
    "    Parameters\n",
    "    ----------\n",
    "    V : iterable\n",
    "        Vertex set (e.g., range(n) or list of vertices)\n",
    "    E : list of iterables\n",
    "        Hyperedges; each hyperedge is an iterable of vertices in V\n",
    "    sigma : list or array-like, optional\n",
    "        Weights corresponding to each hyperedge; defaults to all 1's\n",
    "\n",
    "    Returns\n",
    "    -------\n",
    "    float\n",
    "        Weighted fractional arboricity D_sigma(H)\n",
    "    \"\"\"\n",
    "    V = list(V)\n",
    "    if len(V) < 2:\n",
    "        raise ValueError(\"D_sigma(H) is undefined for |V| < 2.\")\n",
    "\n",
    "    if sigma is None:\n",
    "        sigma = [1.0] * len(E)\n",
    "    if len(sigma) != len(E):\n",
    "        raise ValueError(\"sigma must have the same length as E.\")\n",
    "\n",
    "    E_sets = [set(e) for e in E]\n",
    "    D = 0.0\n",
    "\n",
    "    # Iterate over all subsets X with |X| ≥ 2\n",
    "    for k in range(2, len(V) + 1):\n",
    "        for X in combinations(V, k):\n",
    "            Xset = set(X)\n",
    "            # Sum of weights of edges contained in X\n",
    "            weighted_sum = sum(sigma[i] for i, e in enumerate(E_sets) if e.issubset(Xset))\n",
    "            D = max(D, weighted_sum / (k - 1))\n",
    "    return D"
   ]
  },
  {
   "cell_type": "code",
   "execution_count": 30,
   "id": "415eacf5-b5a4-4331-941f-c5a01b6fe051",
   "metadata": {},
   "outputs": [
    {
     "name": "stdout",
     "output_type": "stream",
     "text": [
      "Strength =  1.33\n",
      "Fractional_arboricity = 1.5\n"
     ]
    }
   ],
   "source": [
    "#Example \n",
    "n = 6\n",
    "V = range(n)\n",
    "E = [[0,1,2],[0,1,3],[1,2,3],[3,5],[3,4],[4,5],[0,5,2]]\n",
    "print('Strength = ',np.round(strength(V,E),2))\n",
    "print('Fractional_arboricity =', np.round(fractional_arboricity(V, E),2))"
   ]
  },
  {
   "cell_type": "markdown",
   "id": "58efbb8e-aa6d-41a1-bf25-a9713027d6d3",
   "metadata": {},
   "source": [
    "## Hypertree 1-modulus and strength\n",
    "Let $H$ be a partition-connected hypergraph. Then,\n",
    "\n",
    "$$\n",
    "\\operatorname{Mod}_1(\\Gamma(H)) = S(H).\n",
    "$$\n",
    "\n"
   ]
  },
  {
   "cell_type": "code",
   "execution_count": 31,
   "id": "8ae7e137-9a22-40f5-b959-c84093229f93",
   "metadata": {},
   "outputs": [
    {
     "name": "stdout",
     "output_type": "stream",
     "text": [
      "1-modulus: mod =  1.33\n",
      "Strength =  1.33\n"
     ]
    }
   ],
   "source": [
    "#Example: \n",
    "n = 6\n",
    "V = range(n)\n",
    "E = [[0,1,2],[0,1,3],[1,2,3],[3,5],[3,4],[4,5],[0,5,2]]\n",
    "\n",
    "mod1, rho1, _ = matrix_modulus(T, 1)\n",
    "print('1-modulus: mod = ',np.round(mod1,2))\n",
    "print('Strength = ',np.round(strength(V,E),2))"
   ]
  },
  {
   "cell_type": "markdown",
   "id": "a20217dd-1a61-4877-ba4d-c9e0e3d60542",
   "metadata": {},
   "source": [
    "## Hypertree 2-modulus encodes strength and fractional arboricity\n",
    "Let $H$ be a partition-connected hypergraph with weights $\\sigma \\in \\mathbb{R}^E_{>0}$.\n",
    "\n",
    "For 2-modulus, let $\\eta^*$ be the optimal density of $\\operatorname{Mod}_{2}(\\widehat{\\Gamma})$, we have\n",
    "\n",
    "\n",
    "$$\n",
    "\\frac{1}{(\\sigma^{-1}\\eta)^*_{max}}= S_{\\sigma}(H), \\qquad \\frac{1}{(\\sigma^{-1}\\eta)^*_{min}}= D_{\\sigma}(H).\n",
    "$$"
   ]
  },
  {
   "cell_type": "code",
   "execution_count": 32,
   "id": "38b795d6-abcd-443c-8f82-afcf17b27e2a",
   "metadata": {},
   "outputs": [
    {
     "name": "stdout",
     "output_type": "stream",
     "text": [
      "2-modulus: mod =  0.33\n",
      "2-modulus: eta^* =  [1. 1. 1.]\n",
      "Strength =  1.0\n",
      "Fractional_arboricity = 1.0\n"
     ]
    }
   ],
   "source": [
    "#Example: \n",
    "n = 4\n",
    "V = range(n)\n",
    "E = [[0,1,2],[0,1,2],[0,3]]\n",
    "T = trees(V, E)\n",
    "mod2, rho2, _ = matrix_modulus(T, 2)\n",
    "print('2-modulus: mod = ',np.round(mod2,2))\n",
    "print('2-modulus: eta^* = ',np.round(rho2/mod2,2))\n",
    "print('Strength = ',np.round(strength(V,E),2))\n",
    "print('Fractional_arboricity =', np.round(fractional_arboricity(V, E),2))"
   ]
  },
  {
   "cell_type": "code",
   "execution_count": 33,
   "id": "7589e69f-a7d0-4c7c-8d12-0173bbecf271",
   "metadata": {},
   "outputs": [
    {
     "name": "stdout",
     "output_type": "stream",
     "text": [
      "2-modulus: mod =  0.28\n",
      "2-modulus: eta^* =  [0.75 0.75 0.75 0.67 0.67 0.67 0.75]\n",
      "Strength =  1.33\n",
      "Fractional_arboricity = 1.5\n"
     ]
    }
   ],
   "source": [
    "#Example 2\n",
    "n = 6\n",
    "V = range(n)\n",
    "E = [[0,1,2],[0,1,3],[1,2,3],[3,5],[3,4],[4,5],[0,5,2]]\n",
    "T = trees(V, E)\n",
    "mod2, rho2, _ = matrix_modulus(T, 2)\n",
    "print('2-modulus: mod = ',np.round(mod2,2))\n",
    "print('2-modulus: eta^* = ',np.round(rho2/mod2,2))\n",
    "print('Strength = ',np.round(strength(V,E),2))\n",
    "print('Fractional_arboricity =', np.round(fractional_arboricity(V, E),2))\n"
   ]
  },
  {
   "cell_type": "markdown",
   "id": "67750c92-a59e-432f-85ec-e298ca288aa7",
   "metadata": {},
   "source": [
    "## Multitree hypergraph\n",
    "\n",
    "A natural question arises: *what happens when $H$ is not partition-connected?*  \n",
    "Does modulus still reveal a hierarchical structure? The answer is **yes**.\n",
    "\n",
    "To explain this, we introduce the family of **multitrees** $\\Omega = \\Omega(H)$ as follows:  Each multitree is a vector $x \\in \\mathbb{R}^E$ where $x(e)$ counts how many copies of a hyperedge $e$ are included such that their union forms a hypertree on $V$.\n",
    "\n",
    "**Example**  \n",
    "Consider a hypergraph $H = (V, E)$ with  $V = \\{v_1, v_2, v_3\\}$,  $E = \\{e_1, e_2\\}$, and  $e_1 = e_2 = \\{v_1, v_2, v_3\\}$.  "
   ]
  },
  {
   "cell_type": "markdown",
   "id": "6104c53d-0380-44fa-83f9-f4960e85eabd",
   "metadata": {},
   "source": [
    "<div align=\"center\">\n",
    "\n",
    "```{figure} images/si-mul.png\n",
    ":width: 300px\n",
    ":class: no-caption-number\n",
    "\n",
    "*$\\Omega(H)=\\{(2, 1)\\}$*\n",
    "```"
   ]
  },
  {
   "cell_type": "markdown",
   "id": "bcdc2ba8-ea6e-4f69-86dc-1f95744459e9",
   "metadata": {},
   "source": [
    "<div align=\"center\">\n",
    "\n",
    "```{figure} images/hyper1.png\n",
    ":width: 250px\n",
    ":class: no-caption-number\n",
    "\n",
    "*$\\Omega(H)=\\{(1, 1), (2, 0), (0, 2)\\}$*\n",
    "```"
   ]
  },
  {
   "cell_type": "markdown",
   "id": "3be9edca-414f-4c0b-a6c2-a9f7b8df9857",
   "metadata": {},
   "source": [
    "## Usage matrix\n",
    "Next, we are going to find the usage matrix of the multitree family"
   ]
  },
  {
   "cell_type": "code",
   "execution_count": 34,
   "id": "5c7514e6-ec49-4746-9335-9b2884e7039f",
   "metadata": {},
   "outputs": [],
   "source": [
    "# Output the multitree family\n",
    "def multitrees(V,E):\n",
    "    m = len(E)\n",
    "    n = len(V)\n",
    "    dN = []\n",
    "    cE = E * (n-1)\n",
    "    for J in combinations(range(len(cE)), len(V)-1):\n",
    "        Jgood = True\n",
    "        for X in list(powerset(V))[1:]:\n",
    "            # Check the subsets of E indexed by J\n",
    "            if not len([F for F in [cE[i] for i in J] if set(F).issubset(X)]) <= len(X) - 1:\n",
    "                Jgood = False\n",
    "                break\n",
    "        if Jgood:\n",
    "            row = np.zeros(len(E))\n",
    "            for i in J:\n",
    "                row[i % m] = row[i % m]+1\n",
    "            dN.append(row)\n",
    "    N = np.unique(dN, axis=0)\n",
    "    return(N)"
   ]
  },
  {
   "cell_type": "code",
   "execution_count": 35,
   "id": "f75e5efe-ae26-4ebe-b1c5-2644287f88f8",
   "metadata": {},
   "outputs": [
    {
     "name": "stdout",
     "output_type": "stream",
     "text": [
      "Usage matrix of the multitree family:\n",
      "[[1. 1. 1. 0. 1.]\n",
      " [1. 1. 1. 1. 0.]\n",
      " [2. 0. 1. 0. 1.]\n",
      " [2. 0. 1. 1. 0.]\n",
      " [2. 1. 0. 0. 1.]\n",
      " [2. 1. 0. 1. 0.]\n",
      " [3. 0. 0. 0. 1.]\n",
      " [3. 0. 0. 1. 0.]]\n"
     ]
    }
   ],
   "source": [
    "#Example: \n",
    "n = 5\n",
    "V = range(n)\n",
    "E = [[0,1,2,3],[0,1],[2,3],[3,4],[3,4]]\n",
    "N = multitrees(V,E)\n",
    "print('Usage matrix of the multitree family:')\n",
    "print(N)"
   ]
  },
  {
   "cell_type": "code",
   "execution_count": 36,
   "id": "3b1c2fe5-7540-47af-832a-873cd01320dd",
   "metadata": {
    "editable": true,
    "slideshow": {
     "slide_type": ""
    },
    "tags": []
   },
   "outputs": [
    {
     "name": "stdout",
     "output_type": "stream",
     "text": [
      "=== 2-Modulus Results ===\n",
      "Modulus value (mod₂): 0.2857\n",
      "Optimal density η*   : [1.  1.  1.  0.5 0.5]\n",
      "\n",
      "=== 1-Modulus Results ===\n",
      "Modulus value (mod₁): 1.0000\n",
      "Strength =  1.0\n",
      "Fractional_arboricity = 2.0\n"
     ]
    }
   ],
   "source": [
    "# Compute the 2-modulus (p = 2)\n",
    "mod2, rho2, _ = matrix_modulus(N, 2)\n",
    "print(\"=== 2-Modulus Results ===\")\n",
    "print(f\"Modulus value (mod₂): {mod2:.4f}\")\n",
    "print(f\"Optimal density η*   : {np.round(rho2 / mod2, 2)}\\n\")\n",
    "\n",
    "# Compute the 1-modulus (p = 1)\n",
    "mod1, rho1, _ = matrix_modulus(N, 1)\n",
    "print(\"=== 1-Modulus Results ===\")\n",
    "print(f\"Modulus value (mod₁): {mod1:.4f}\")\n",
    "print('Strength = ',np.round(strength(V,E),2))\n",
    "print('Fractional_arboricity =', np.round(fractional_arboricity(V, E),2))"
   ]
  },
  {
   "cell_type": "markdown",
   "id": "7d1f9bef-84fd-420b-8e07-a351a283d361",
   "metadata": {},
   "source": [
    "## Multitrees modulus properties\n",
    "We have\n",
    "\n",
    "$$\n",
    "\\operatorname{Mod}_1(\\Omega(H)) = S(H).\n",
    "$$\n",
    "\n",
    "Let $\\eta^*$ be the optimal density of $\\operatorname{Mod}_{2}(\\widehat{\\Omega})$, we have\n",
    "\n",
    "$$\n",
    "S(H) = \\frac{1}{\\eta^*_{\\max}}, \n",
    "\\qquad \n",
    "D(H) = \\frac{1}{\\eta^*_{\\min}}.\n",
    "$$\n",
    "\n",
    "<p align=\"center\">\n",
    "A hypergraph $H$ for which $S(H) = D(H)$ is called a \n",
    "**homogeneous** hypergraph.\n",
    "</p>\n",
    "\n",
    "\n",
    "If $H$ is partition-connected, then $\\operatorname{Mod}_{2}(\\widehat{\\Omega})$ and $\\operatorname{Mod}_{2}(\\widehat{\\Gamma})$ have the same optimal density.\n"
   ]
  },
  {
   "cell_type": "markdown",
   "id": "4d086b93-7de2-4cf9-8c42-b06f82268638",
   "metadata": {},
   "source": [
    "## Decomposition process\n",
    "We also propose a **deflation process** for $H$ that identifies a hierarchical structure of hypergraphs in which each subhypergraph of the deflation preserves $\\eta^*$, and its strength and fractional arboricity are likewise encoded in $\\eta^*$.\n",
    "\n",
    "\n",
    "\n",
    "\n",
    "- Red hyperedges: $\\eta^* = \\tfrac{3}{5}$\n",
    "- Green hyperedges: $\\eta^* = 1$\n",
    "- Blue hyperedges: $\\eta^* = \\tfrac{3}{2}$\n",
    "\n",
    "\n",
    "\n",
    "<div align=\"center\">\n",
    "\n",
    "```{figure} images/de-part.png\n",
    ":width: 400px\n",
    ":class: no-caption-number\n",
    "```\n",
    "\n",
    "\n",
    "$$\n",
    "\\downarrow\n",
    "$$\n",
    "\n",
    "\n",
    "<div align=\"center\">\n",
    "\n",
    "```{figure} images/de-s1-part.png\n",
    ":width: 400px\n",
    ":class: no-caption-number\n",
    "```\n",
    "\n",
    "$$\n",
    "\\downarrow\n",
    "$$\n",
    "\n",
    "\n",
    "<div align=\"center\">\n",
    "\n",
    "```{figure} images/de-s2.png\n",
    ":width: 250px\n",
    ":class: no-caption-number\n",
    "```"
   ]
  },
  {
   "cell_type": "code",
   "execution_count": null,
   "id": "fddecf92-4659-4395-b533-450ff67106e9",
   "metadata": {},
   "outputs": [],
   "source": []
  },
  {
   "cell_type": "code",
   "execution_count": null,
   "id": "27becadf-c777-435a-a9c8-ff161732804a",
   "metadata": {},
   "outputs": [],
   "source": []
  }
 ],
 "metadata": {
  "kernelspec": {
   "display_name": "Python 3 (ipykernel)",
   "language": "python",
   "name": "python3"
  },
  "language_info": {
   "codemirror_mode": {
    "name": "ipython",
    "version": 3
   },
   "file_extension": ".py",
   "mimetype": "text/x-python",
   "name": "python",
   "nbconvert_exporter": "python",
   "pygments_lexer": "ipython3",
   "version": "3.13.7"
  }
 },
 "nbformat": 4,
 "nbformat_minor": 5
}
