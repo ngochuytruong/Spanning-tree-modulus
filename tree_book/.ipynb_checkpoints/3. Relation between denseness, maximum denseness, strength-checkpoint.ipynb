{
 "cells": [
  {
   "cell_type": "code",
   "execution_count": 2,
   "id": "995d09b6",
   "metadata": {},
   "outputs": [],
   "source": [
    "%matplotlib inline\n",
    "import matplotlib.pyplot as plt\n",
    "import networkx as nx\n",
    "import numpy as np\n",
    "import cdd\n",
    "from modulus_tools import demo_graphs\n",
    "from modulus_tools import algorithms as alg\n",
    "from itertools import product\n",
    "%matplotlib inline\n",
    "import matplotlib.pyplot as plt\n",
    "import networkx as nx\n",
    "from modulus_tools.basic_algorithm import matrix_modulus, modulus\n",
    "from modulus_tools.families.networkx_families import MinimumSpanningTree"
   ]
  },
  {
   "cell_type": "code",
   "execution_count": 6,
   "id": "ea9ceee8",
   "metadata": {
    "scrolled": false
   },
   "outputs": [
    {
     "name": "stdout",
     "output_type": "stream",
     "text": [
      "streng=  0.5256725123242344\n",
      "mod =  0.5256718824807335\n",
      "c\n",
      "streng=  1.051268779992393\n",
      "mod =  1.051265942379034\n",
      "c\n",
      "streng=  0.7659209978643081\n",
      "mod =  0.7659153358859848\n",
      "c\n",
      "streng=  0.2100990263201532\n",
      "mod =  0.2100990263201532\n",
      "c\n",
      "streng=  0.5383309237503564\n",
      "mod =  0.5383203251387453\n",
      "c\n",
      "streng=  0.07478453858317624\n",
      "mod =  0.07478453858317624\n",
      "c\n",
      "streng=  0.9722113038235283\n",
      "mod =  0.972230262880693\n",
      "c\n",
      "streng=  0.10211684525027653\n",
      "mod =  0.10211684525027653\n",
      "c\n",
      "streng=  1.5607727981642021\n"
     ]
    },
    {
     "ename": "SolverError",
     "evalue": "Solver 'OSQP' failed. Try another solver, or solve with verbose=True for more information.",
     "output_type": "error",
     "traceback": [
      "\u001b[1;31m---------------------------------------------------------------------------\u001b[0m",
      "\u001b[1;31mSolverError\u001b[0m                               Traceback (most recent call last)",
      "Input \u001b[1;32mIn [6]\u001b[0m, in \u001b[0;36m<cell line: 4>\u001b[1;34m()\u001b[0m\n\u001b[0;32m     12\u001b[0m s\u001b[38;5;241m=\u001b[39m \u001b[38;5;241m1\u001b[39m\u001b[38;5;241m/\u001b[39m\u001b[38;5;28mmax\u001b[39m(eta)\n\u001b[0;32m     13\u001b[0m \u001b[38;5;28mprint\u001b[39m(\u001b[38;5;124m'\u001b[39m\u001b[38;5;124mstreng= \u001b[39m\u001b[38;5;124m'\u001b[39m,s)\n\u001b[1;32m---> 14\u001b[0m mod, cons, rho, lam \u001b[38;5;241m=\u001b[39m \u001b[43mmodulus\u001b[49m\u001b[43m(\u001b[49m\u001b[43mm\u001b[49m\u001b[43m,\u001b[49m\u001b[43m \u001b[49m\u001b[43mmatrix_modulus\u001b[49m\u001b[43m,\u001b[49m\u001b[43m \u001b[49m\u001b[43mmst\u001b[49m\u001b[43m,\u001b[49m\u001b[43mp\u001b[49m\u001b[38;5;241;43m=\u001b[39;49m\u001b[38;5;241;43m1\u001b[39;49m\u001b[43m,\u001b[49m\u001b[43msigma\u001b[49m\u001b[38;5;241;43m=\u001b[39;49m\u001b[43m \u001b[49m\u001b[43msi\u001b[49m\u001b[43m,\u001b[49m\u001b[43m \u001b[49m\u001b[43mmax_iter\u001b[49m\u001b[38;5;241;43m=\u001b[39;49m\u001b[38;5;241;43m400\u001b[39;49m\u001b[43m)\u001b[49m\n\u001b[0;32m     15\u001b[0m \u001b[38;5;66;03m#plt.figure(figsize=(5,5))\u001b[39;00m\n\u001b[0;32m     16\u001b[0m \u001b[38;5;66;03m#nx.draw(G, pos, node_size=50, node_color='black', width=2, edge_color=np.around(rho,10), edge_cmap=plt.cm.Set2)\u001b[39;00m\n\u001b[0;32m     17\u001b[0m eta \u001b[38;5;241m=\u001b[39m rho\u001b[38;5;241m/\u001b[39mmod\n",
      "File \u001b[1;32m~\\OneDrive\\Máy tính\\python\\modulus_book-main\\modulus_tools\\basic_algorithm.py:211\u001b[0m, in \u001b[0;36mmodulus\u001b[1;34m(m, solve_subproblem, find_shortest, p, sigma, tol, max_iter, output_every)\u001b[0m\n\u001b[0;32m    209\u001b[0m \u001b[38;5;66;03m# re-optimize\u001b[39;00m\n\u001b[0;32m    210\u001b[0m start \u001b[38;5;241m=\u001b[39m perf_counter()\n\u001b[1;32m--> 211\u001b[0m mod, rho, lam \u001b[38;5;241m=\u001b[39m\u001b[43msolve_subproblem\u001b[49m\u001b[43m(\u001b[49m\u001b[43mN\u001b[49m\u001b[43m,\u001b[49m\u001b[43m \u001b[49m\u001b[43mp\u001b[49m\u001b[43m,\u001b[49m\u001b[43m \u001b[49m\u001b[43msigma\u001b[49m\u001b[43m)\u001b[49m\n\u001b[0;32m    212\u001b[0m update_time \u001b[38;5;241m+\u001b[39m\u001b[38;5;241m=\u001b[39m perf_counter()\u001b[38;5;241m-\u001b[39mstart\n\u001b[0;32m    215\u001b[0m \u001b[38;5;66;03m# print some feedback if desired\u001b[39;00m\n",
      "File \u001b[1;32m~\\OneDrive\\Máy tính\\python\\modulus_book-main\\modulus_tools\\basic_algorithm.py:68\u001b[0m, in \u001b[0;36mmatrix_modulus\u001b[1;34m(N, p, sigma)\u001b[0m\n\u001b[0;32m     65\u001b[0m prob \u001b[38;5;241m=\u001b[39m cvx\u001b[38;5;241m.\u001b[39mProblem(obj, cons)\n\u001b[0;32m     67\u001b[0m \u001b[38;5;66;03m# attempt to solve\u001b[39;00m\n\u001b[1;32m---> 68\u001b[0m \u001b[43mprob\u001b[49m\u001b[38;5;241;43m.\u001b[39;49m\u001b[43msolve\u001b[49m\u001b[43m(\u001b[49m\u001b[43m)\u001b[49m\n\u001b[0;32m     69\u001b[0m \u001b[38;5;28;01mif\u001b[39;00m prob\u001b[38;5;241m.\u001b[39mstatus \u001b[38;5;241m!=\u001b[39m \u001b[38;5;124m'\u001b[39m\u001b[38;5;124moptimal\u001b[39m\u001b[38;5;124m'\u001b[39m:\n\u001b[0;32m     70\u001b[0m     warn(\u001b[38;5;124m'\u001b[39m\u001b[38;5;124mcvxpy solve returned status \u001b[39m\u001b[38;5;132;01m{}\u001b[39;00m\u001b[38;5;124m'\u001b[39m\u001b[38;5;241m.\u001b[39mformat(prob\u001b[38;5;241m.\u001b[39mstatus))\n",
      "File \u001b[1;32m~\\anaconda3\\lib\\site-packages\\cvxpy\\problems\\problem.py:481\u001b[0m, in \u001b[0;36mProblem.solve\u001b[1;34m(self, *args, **kwargs)\u001b[0m\n\u001b[0;32m    479\u001b[0m \u001b[38;5;28;01melse\u001b[39;00m:\n\u001b[0;32m    480\u001b[0m     solve_func \u001b[38;5;241m=\u001b[39m Problem\u001b[38;5;241m.\u001b[39m_solve\n\u001b[1;32m--> 481\u001b[0m \u001b[38;5;28;01mreturn\u001b[39;00m solve_func(\u001b[38;5;28mself\u001b[39m, \u001b[38;5;241m*\u001b[39margs, \u001b[38;5;241m*\u001b[39m\u001b[38;5;241m*\u001b[39mkwargs)\n",
      "File \u001b[1;32m~\\anaconda3\\lib\\site-packages\\cvxpy\\problems\\problem.py:1020\u001b[0m, in \u001b[0;36mProblem._solve\u001b[1;34m(self, solver, warm_start, verbose, gp, qcp, requires_grad, enforce_dpp, ignore_dpp, **kwargs)\u001b[0m\n\u001b[0;32m   1018\u001b[0m end \u001b[38;5;241m=\u001b[39m time\u001b[38;5;241m.\u001b[39mtime()\n\u001b[0;32m   1019\u001b[0m \u001b[38;5;28mself\u001b[39m\u001b[38;5;241m.\u001b[39m_solve_time \u001b[38;5;241m=\u001b[39m end \u001b[38;5;241m-\u001b[39m start\n\u001b[1;32m-> 1020\u001b[0m \u001b[38;5;28;43mself\u001b[39;49m\u001b[38;5;241;43m.\u001b[39;49m\u001b[43munpack_results\u001b[49m\u001b[43m(\u001b[49m\u001b[43msolution\u001b[49m\u001b[43m,\u001b[49m\u001b[43m \u001b[49m\u001b[43msolving_chain\u001b[49m\u001b[43m,\u001b[49m\u001b[43m \u001b[49m\u001b[43minverse_data\u001b[49m\u001b[43m)\u001b[49m\n\u001b[0;32m   1021\u001b[0m \u001b[38;5;28;01mif\u001b[39;00m verbose:\n\u001b[0;32m   1022\u001b[0m     \u001b[38;5;28mprint\u001b[39m(_FOOTER)\n",
      "File \u001b[1;32m~\\anaconda3\\lib\\site-packages\\cvxpy\\problems\\problem.py:1345\u001b[0m, in \u001b[0;36mProblem.unpack_results\u001b[1;34m(self, solution, chain, inverse_data)\u001b[0m\n\u001b[0;32m   1343\u001b[0m     warnings\u001b[38;5;241m.\u001b[39mwarn(INF_OR_UNB_MESSAGE)\n\u001b[0;32m   1344\u001b[0m \u001b[38;5;28;01mif\u001b[39;00m solution\u001b[38;5;241m.\u001b[39mstatus \u001b[38;5;129;01min\u001b[39;00m s\u001b[38;5;241m.\u001b[39mERROR:\n\u001b[1;32m-> 1345\u001b[0m     \u001b[38;5;28;01mraise\u001b[39;00m error\u001b[38;5;241m.\u001b[39mSolverError(\n\u001b[0;32m   1346\u001b[0m             \u001b[38;5;124m\"\u001b[39m\u001b[38;5;124mSolver \u001b[39m\u001b[38;5;124m'\u001b[39m\u001b[38;5;132;01m%s\u001b[39;00m\u001b[38;5;124m'\u001b[39m\u001b[38;5;124m failed. \u001b[39m\u001b[38;5;124m\"\u001b[39m \u001b[38;5;241m%\u001b[39m chain\u001b[38;5;241m.\u001b[39msolver\u001b[38;5;241m.\u001b[39mname() \u001b[38;5;241m+\u001b[39m\n\u001b[0;32m   1347\u001b[0m             \u001b[38;5;124m\"\u001b[39m\u001b[38;5;124mTry another solver, or solve with verbose=True for more \u001b[39m\u001b[38;5;124m\"\u001b[39m\n\u001b[0;32m   1348\u001b[0m             \u001b[38;5;124m\"\u001b[39m\u001b[38;5;124minformation.\u001b[39m\u001b[38;5;124m\"\u001b[39m)\n\u001b[0;32m   1350\u001b[0m \u001b[38;5;28mself\u001b[39m\u001b[38;5;241m.\u001b[39munpack(solution)\n\u001b[0;32m   1351\u001b[0m \u001b[38;5;28mself\u001b[39m\u001b[38;5;241m.\u001b[39m_solver_stats \u001b[38;5;241m=\u001b[39m SolverStats(\u001b[38;5;28mself\u001b[39m\u001b[38;5;241m.\u001b[39m_solution\u001b[38;5;241m.\u001b[39mattr,\n\u001b[0;32m   1352\u001b[0m                                  chain\u001b[38;5;241m.\u001b[39msolver\u001b[38;5;241m.\u001b[39mname())\n",
      "\u001b[1;31mSolverError\u001b[0m: Solver 'OSQP' failed. Try another solver, or solve with verbose=True for more information."
     ]
    }
   ],
   "source": [
    "#G= nx.Graph()\n",
    "#nx.add_path(G,(0,1,2,3,0))\n",
    "#nx.add_path(G,(1,3,2,5,2,0,4,5))\n",
    "for i  in range(20):\n",
    "    G = nx.random_geometric_graph(6, 0.5, seed = i+10)\n",
    "    m = len(G.edges())\n",
    "    si = np.random.rand(m)\n",
    "    mst = MinimumSpanningTree(G)\n",
    "    pos = nx.spring_layout(G)\n",
    "    mod, cons, rho, lam = modulus(m, matrix_modulus, mst, sigma= si,  max_iter=400)\n",
    "    eta = rho/mod\n",
    "    s= 1/max(eta)\n",
    "    print('streng= ',s)\n",
    "    mod, cons, rho, lam = modulus(m, matrix_modulus, mst,p=1,sigma= si, max_iter=400)\n",
    "    #plt.figure(figsize=(5,5))\n",
    "    #nx.draw(G, pos, node_size=50, node_color='black', width=2, edge_color=np.around(rho,10), edge_cmap=plt.cm.Set2)\n",
    "    eta = rho/mod\n",
    "    print('mod = ',mod)\n",
    "    print('c')"
   ]
  },
  {
   "cell_type": "code",
   "execution_count": null,
   "id": "a3b686b1",
   "metadata": {},
   "outputs": [],
   "source": []
  },
  {
   "cell_type": "code",
   "execution_count": null,
   "id": "8184be89",
   "metadata": {},
   "outputs": [],
   "source": []
  },
  {
   "cell_type": "code",
   "execution_count": null,
   "id": "92d19b33",
   "metadata": {},
   "outputs": [],
   "source": []
  }
 ],
 "metadata": {
  "kernelspec": {
   "display_name": "Python 3 (ipykernel)",
   "language": "python",
   "name": "python3"
  },
  "language_info": {
   "codemirror_mode": {
    "name": "ipython",
    "version": 3
   },
   "file_extension": ".py",
   "mimetype": "text/x-python",
   "name": "python",
   "nbconvert_exporter": "python",
   "pygments_lexer": "ipython3",
   "version": "3.9.12"
  }
 },
 "nbformat": 4,
 "nbformat_minor": 5
}
