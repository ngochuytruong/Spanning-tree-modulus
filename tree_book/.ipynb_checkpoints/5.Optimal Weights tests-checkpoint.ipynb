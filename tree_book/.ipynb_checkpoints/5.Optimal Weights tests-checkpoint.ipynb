{
 "cells": [
  {
   "cell_type": "code",
   "execution_count": 7,
   "metadata": {},
   "outputs": [],
   "source": [
    "import networkx as nx\n",
    "import matplotlib.pyplot as plt\n",
    "import numpy as np\n",
    "from scipy.optimize import minimize"
   ]
  },
  {
   "cell_type": "code",
   "execution_count": 8,
   "metadata": {},
   "outputs": [],
   "source": [
    "# function to compute the objective\n",
    "def objective(sigma):\n",
    "    \n",
    "    n = len(g.nodes())\n",
    "    \n",
    "    # set up sigma\n",
    "    for i,(a,b) in enumerate(g.edges()):\n",
    "        g[a][b]['sigma'] = sigma[i]\n",
    "    \n",
    "    # generate vectors for eta star\n",
    "    etastar = np.array([d['etastar'] for a,b,d in g.edges(data=True)])\n",
    "    \n",
    "    # get the Laplacian spectrum\n",
    "    l = nx.laplacian_spectrum(g,weight='sigma')\n",
    "    \n",
    "    # the docs don't guarantee l is sorted...\n",
    "    l = np.sort(l)\n",
    "        \n",
    "    return np.sum(np.log(l[1:])) - np.log(n) - etastar.dot(np.log(sigma))\n",
    "\n",
    "# objective derivatives\n",
    "def d_objective(sigma):\n",
    "    \n",
    "    m,n = len(g.edges()), len(g.nodes())\n",
    "    \n",
    "    # set up sigma\n",
    "    for i,(a,b) in enumerate(g.edges()):\n",
    "        g[a][b]['sigma'] = sigma[i]\n",
    "    \n",
    "    # generate vectors for eta star\n",
    "    etastar = np.array([d['etastar'] for a,b,d in g.edges(data=True)])\n",
    "\n",
    "    # get Laplacian\n",
    "    L = nx.laplacian_matrix(g,weight='sigma').todense()\n",
    "    \n",
    "    # compute the pseudoinverse\n",
    "    G = np.linalg.pinv(L)\n",
    "    \n",
    "    # compute the gradient\n",
    "    grad = np.zeros(m)\n",
    "    for i,(a,b) in enumerate(g.edges()):\n",
    "        j,k = g.nodes[a]['enum'], g.nodes[b]['enum']\n",
    "        grad[i]= G[j,j] + G[k,k] - 2*G[j,k] - etastar[i]/sigma[i]\n",
    "    \n",
    "    return grad"
   ]
  },
  {
   "cell_type": "code",
   "execution_count": 9,
   "metadata": {},
   "outputs": [
    {
     "data": {
      "image/png": "[encoded data removed]",
      "text/plain": [
       "<Figure size 432x288 with 1 Axes>"
      ]
     },
     "metadata": {},
     "output_type": "display_data"
    }
   ],
   "source": [
    "example = 8\n",
    "\n",
    "###\n",
    "# create the graph\n",
    "#\n",
    "if example == 1:                       # DIAMOND GRAPH\n",
    "    g = nx.cycle_graph(4)\n",
    "    g.add_edge(0,2)\n",
    "    pos = nx.circular_layout(g)\n",
    "elif example == 2:                     # NESTED DIAMOND\n",
    "    g = nx.cycle_graph(4)\n",
    "    g.add_edge(0,2)\n",
    "    pos = nx.circular_layout(g)\n",
    "    g.add_path([0,4,5,6,2])\n",
    "    g.add_edge(1,5)\n",
    "    for i in range(3):\n",
    "        pos[i+4] = (pos[i][0],pos[i][1]+1)\n",
    "elif example == 3:                     # HOUSE GRAPH\n",
    "    g = nx.cycle_graph(5)\n",
    "    g.add_edge(0,2)\n",
    "    pos = nx.circular_layout(g)\n",
    "elif example == 4:                     # HOUSE WITH DIAGONAL\n",
    "    g = nx.cycle_graph(5)\n",
    "    g.add_edge(0,2)\n",
    "    g.add_edge(0,3)\n",
    "    pos = nx.circular_layout(g)\n",
    "elif example == 5:                     # GRID GRAPH\n",
    "    g = nx.grid_2d_graph(3,4)\n",
    "    pos = {a:a for a in g.nodes()}\n",
    "elif example == 6:                     # PERIODIC GRID GRAPH\n",
    "    g = nx.grid_2d_graph(3,4,periodic=True)\n",
    "    pos = {a:a for a in g.nodes()}\n",
    "elif example == 7:                     # RANDOM REGULAR GRAPH\n",
    "    g = nx.random_regular_graph(3,10)\n",
    "    pos = nx.spring_layout(g)\n",
    "elif example == 8:                     # NONHOMOGENEOUS GRAPH\n",
    "    g = nx.cycle_graph(7)\n",
    "    g.add_edge(0,2)\n",
    "    g.add_edge(3,5)\n",
    "    pos = nx.circular_layout(g)\n",
    "    \n",
    "elif example == 9:                     # MODIFIED GRID\n",
    "    m = 12\n",
    "    n = 8\n",
    "    h = nx.grid_2d_graph( m, n , periodic = False)\n",
    "    posh = dict( zip( h.nodes(), h.nodes() ))\n",
    "    B = set([ (i,0) for i in range(m) ])\n",
    "    R = set([ (m-1,i) for i in range(n) ])\n",
    "    U = B.union(R)\n",
    "    \n",
    "    # contract U and V\n",
    "    boundary = lambda u, v: (u in U and v in U)\n",
    "    g = nx.quotient_graph(h, boundary)\n",
    "    \n",
    "    # create pos for h\n",
    "    newnodes = [next(iter(x)) for x in g.nodes()]\n",
    "    pos = dict( zip( g.nodes() , newnodes ))\n",
    "    pos[frozenset(U)]=(m-1,0)\n",
    "    \n",
    "elif example == 10:                     # MODIFIED GRID WITH DIAGONAL\n",
    "    m = 4\n",
    "    n = 4\n",
    "    h = nx.grid_2d_graph( m, n , periodic = False)\n",
    "    posh = dict( zip( h.nodes(), h.nodes() ))\n",
    "    B = set([ (i,0) for i in range(m) ])\n",
    "    R = set([ (m-1,i) for i in range(n) ])\n",
    "    U = B.union(R)\n",
    "    \n",
    "    # contract U and V\n",
    "    boundary = lambda u, v: (u in U and v in U)\n",
    "    g = nx.quotient_graph(h, boundary)\n",
    "    \n",
    "    # add diagonal\n",
    "    g.add_edge(frozenset({(0,n-1)}),frozenset({(1,n-2)}))\n",
    "    \n",
    "    # create pos for h\n",
    "    newnodes = [next(iter(x)) for x in g.nodes()]\n",
    "    pos = dict( zip( g.nodes() , newnodes ))\n",
    "    pos[frozenset(U)]=(m-1,0)\n",
    "\n",
    "# enumerate the nodes\n",
    "for i,v in enumerate(g.nodes()):\n",
    "    g.nodes[v]['enum'] = i\n",
    "    \n",
    "# initialize edge weights\n",
    "m,n = len(g.edges()), len(g.nodes())\n",
    "for a,b in g.edges():\n",
    "    g[a][b]['etastar'] = float(n-1)/m    # assumes a homogeneous graph\n",
    "fig, ax = plt.subplots()  \n",
    "nx.draw(g,pos,ax=ax,node_size=100,node_color='black',edge_color='gray')"
   ]
  },
  {
   "cell_type": "code",
   "execution_count": 10,
   "metadata": {},
   "outputs": [
    {
     "name": "stdout",
     "output_type": "stream",
     "text": [
      "derivative error = 3.11562e-06\n",
      "derivative error = 6.02654e-06\n",
      "derivative error = 6.48896e-06\n",
      "derivative error = 6.28886e-06\n",
      "derivative error = 2.90570e-06\n",
      "derivative error = 3.45652e-06\n",
      "derivative error = 4.03192e-06\n",
      "derivative error = 3.33680e-06\n",
      "derivative error = 3.40725e-06\n",
      "derivative error = 5.02559e-06\n"
     ]
    }
   ],
   "source": [
    "###\n",
    "# gradient check\n",
    "#\n",
    "\n",
    "for test in range(10):\n",
    "\n",
    "    # generate random weights\n",
    "    sigma = 1 + 10*np.random.random(m)\n",
    "\n",
    "    # compute objective derivatives\n",
    "    D = d_objective(sigma)\n",
    "\n",
    "    # approximate derivative by finite differences\n",
    "    ep = 1e-5\n",
    "    DD = np.zeros(m)\n",
    "    for i in range(m):\n",
    "        z = np.zeros(m)\n",
    "        z[i] = 1\n",
    "        DD[i] = (objective(sigma+ep*z)-objective(sigma))/ep\n",
    "\n",
    "    print( 'derivative error = {:.5e}'.format(np.linalg.norm(D-DD)/np.linalg.norm(D)) )"
   ]
  },
  {
   "cell_type": "code",
   "execution_count": 11,
   "metadata": {},
   "outputs": [
    {
     "name": "stdout",
     "output_type": "stream",
     "text": [
      "Minimization failed.\n"
     ]
    },
    {
     "data": {
      "image/png": "[encoded data removed]",
      "text/plain": [
       "<Figure size 432x288 with 1 Axes>"
      ]
     },
     "metadata": {},
     "output_type": "display_data"
    }
   ],
   "source": [
    "###\n",
    "# solve the minimization problem\n",
    "#\n",
    "\n",
    "# initial weights\n",
    "sigma0 = np.ones(m)\n",
    "\n",
    "# lower bounds on weights (tries to prevent NaNs)\n",
    "bounds = m*[(1e-9,1)]\n",
    "\n",
    "# minimize\n",
    "res = minimize(objective,sigma0,jac=d_objective,bounds=bounds,method='L-BFGS-B')\n",
    "\n",
    "# check results\n",
    "if not res['success']:\n",
    "    print('Minimization failed.')\n",
    "\n",
    "# get the results\n",
    "sigma = res['x']\n",
    "\n",
    "# normalize so that the max weight is 1\n",
    "#sigma /= np.max(sigma)\n",
    "\n",
    "# plot the results\n",
    "fig, ax = plt.subplots()\n",
    "nx.draw(g,pos,ax=ax,node_size=100,node_color='black',edge_color='gray')"
   ]
  },
  {
   "cell_type": "code",
   "execution_count": 12,
   "metadata": {},
   "outputs": [
    {
     "data": {
      "image/png": "[encoded data removed]",
      "text/plain": [
       "<Figure size 432x288 with 1 Axes>"
      ]
     },
     "metadata": {},
     "output_type": "display_data"
    }
   ],
   "source": [
    "lbls = { (a,b):round(sigma[i],3) for i,(a,b) in enumerate(g.edges()) }\n",
    "fig, ax = plt.subplots()\n",
    "nx.draw_networkx_edge_labels(g,pos,ax=ax,edge_labels=lbls);"
   ]
  },
  {
   "cell_type": "code",
   "execution_count": null,
   "metadata": {},
   "outputs": [],
   "source": []
  }
 ],
 "metadata": {
  "kernelspec": {
   "display_name": "Python 3 (ipykernel)",
   "language": "python",
   "name": "python3"
  },
  "language_info": {
   "codemirror_mode": {
    "name": "ipython",
    "version": 3
   },
   "file_extension": ".py",
   "mimetype": "text/x-python",
   "name": "python",
   "nbconvert_exporter": "python",
   "pygments_lexer": "ipython3",
   "version": "3.9.12"
  }
 },
 "nbformat": 4,
 "nbformat_minor": 4
}
