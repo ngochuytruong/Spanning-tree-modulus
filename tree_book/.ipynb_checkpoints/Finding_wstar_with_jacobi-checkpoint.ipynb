{
 "cells": [
  {
   "cell_type": "code",
   "execution_count": 16,
   "id": "a22a2fbc",
   "metadata": {},
   "outputs": [],
   "source": [
    "import networkx as nx\n",
    "import numpy as np\n",
    "import matplotlib.pyplot as plt\n",
    "from itertools import combinations\n",
    "import max_denseness as d"
   ]
  },
  {
   "cell_type": "code",
   "execution_count": 17,
   "id": "ee0d8f6b",
   "metadata": {},
   "outputs": [],
   "source": [
    "import networkx as nx\n",
    "import numpy as np\n",
    "from numpy.linalg import det\n",
    "import matplotlib.pyplot as plt"
   ]
  },
  {
   "cell_type": "code",
   "execution_count": 18,
   "id": "ca6c5371",
   "metadata": {},
   "outputs": [],
   "source": [
    "def Reff(G,u,v):\n",
    "    eff = nx.resistance_distance(G, u,v , weight='eta', invert_weight=False)\n",
    "    return eff\n",
    "def matrix(G):\n",
    "    for i,(u,v) in enumerate(G.edges()):\n",
    "        G[u][v]['enum'] = i\n",
    "    n = len(G.nodes)\n",
    "    N=[]\n",
    "    for T in combinations(G.edges,n-1):\n",
    "            H = nx.Graph(T)\n",
    "            if nx.is_tree(H):   \n",
    "                v = np.zeros(m)\n",
    "                for (a,b) in T:\n",
    "            \n",
    "                    ind = G[a][b]['enum']\n",
    "                    v[ind] = 1\n",
    "                N.append(v)       \n",
    "    return(np.array(N))"
   ]
  },
  {
   "cell_type": "code",
   "execution_count": 19,
   "id": "f3b81b68",
   "metadata": {},
   "outputs": [
    {
     "name": "stdout",
     "output_type": "stream",
     "text": [
      "[0.64583333 0.64583333 0.58333333 0.58333333 0.64583333 0.8125\n",
      " 0.8125     0.8125     0.8125     0.64583333]\n",
      "[1.00736268 1.00736268 0.93267652 0.93267652 1.00736268 1.01831502\n",
      " 1.01831502 1.01831502 1.01831502 1.00736268]\n",
      "[1.00974416 1.00974416 0.96483636 0.96483636 1.00974416 1.00389923\n",
      " 1.00389923 1.00389923 1.00389923 1.00974416]\n",
      "[1.0061188  1.0061188  0.98000077 0.98000077 1.0061188  1.00148023\n",
      " 1.00148023 1.00148023 1.00148023 1.0061188 ]\n",
      "[1.00357683 1.00357683 0.98834813 0.98834813 1.00357683 1.00076091\n",
      " 1.00076091 1.00076091 1.00076091 1.00357683]\n"
     ]
    }
   ],
   "source": [
    "G = nx.cycle_graph(8)\n",
    "G.add_edge(0,2)\n",
    "G.add_edge(0,6)\n",
    "pos = nx.circular_layout(G)\n",
    "sigma  = np.ones(len(G.edges()))\n",
    "reff = np.ones(len(G.edges()))\n",
    "for j in range(5):\n",
    "    for i,(u,v) in enumerate(G.edges()):\n",
    "        G[u][v]['eta']  = sigma[i]\n",
    "    for i,(u,v) in enumerate(G.edges()):\n",
    "        sigma[i] =  sigma[i]*Reff(G,u,v)\n",
    "        reff[i] = Reff(G,u,v)\n",
    "    print(reff)"
   ]
  },
  {
   "cell_type": "code",
   "execution_count": 20,
   "id": "165313ce",
   "metadata": {},
   "outputs": [],
   "source": [
    "def mapp(G,sigma):\n",
    "    a = np.ones(len(G.edges()))\n",
    "    n = len(G)\n",
    "    for i,(u,v) in enumerate(G.edges()):\n",
    "        G[u][v]['eta']  = sigma[i]\n",
    "    for i,(u,v) in enumerate(G.edges()):\n",
    "        a[i] = sigma[i]*Reff(G,u,v)/(n-1)\n",
    "    return a"
   ]
  },
  {
   "cell_type": "code",
   "execution_count": 21,
   "id": "e6f07b10",
   "metadata": {},
   "outputs": [
    {
     "data": {
      "text/plain": [
       "array([0.0922619 , 0.0922619 , 0.08333333, 0.08333333, 0.0922619 ,\n",
       "       0.11607143, 0.11607143, 0.11607143, 0.11607143, 0.0922619 ])"
      ]
     },
     "execution_count": 21,
     "metadata": {},
     "output_type": "execute_result"
    }
   ],
   "source": [
    "G = nx.cycle_graph(8)\n",
    "G.add_edge(0,2)\n",
    "G.add_edge(0,6)\n",
    "pos = nx.circular_layout(G)\n",
    "sigma  = np.ones(len(G.edges()))\n",
    "mapp(G,sigma)"
   ]
  },
  {
   "cell_type": "code",
   "execution_count": 22,
   "id": "443335b1",
   "metadata": {},
   "outputs": [
    {
     "name": "stdout",
     "output_type": "stream",
     "text": [
      "[0.0922619  0.0922619  0.08333333 0.08333333 0.0922619  0.11607143\n",
      " 0.11607143 0.11607143 0.11607143 0.0922619 ]\n",
      "[0.0929412  0.0929412  0.07772304 0.07772304 0.0929412  0.11819728\n",
      " 0.11819728 0.11819728 0.11819728 0.0929412 ]\n",
      "[0.09384683 0.09384683 0.07499002 0.07499002 0.09384683 0.11865816\n",
      " 0.11865816 0.11865816 0.11865816 0.09384683]\n",
      "[0.09442106 0.09442106 0.07349027 0.07349027 0.09442106 0.1188338\n",
      " 0.1188338  0.1188338  0.1188338  0.09442106]\n",
      "[0.09475879 0.09475879 0.07263398 0.07263398 0.09475879 0.11892422\n",
      " 0.11892422 0.11892422 0.11892422 0.09475879]\n",
      "[0.09495616 0.09495616 0.07213693 0.07213693 0.09495616 0.11897537\n",
      " 0.11897537 0.11897537 0.11897537 0.09495616]\n"
     ]
    }
   ],
   "source": [
    "for j in range(6):\n",
    "    sigma = mapp(G,sigma)\n",
    "    print(sigma)"
   ]
  },
  {
   "cell_type": "code",
   "execution_count": 23,
   "id": "3d47c1e2",
   "metadata": {},
   "outputs": [
    {
     "name": "stdout",
     "output_type": "stream",
     "text": [
      "[0.08007225 0.08915008 0.06244225 0.05502971 0.14818522 0.18470248\n",
      " 0.04574057 0.16543009 0.16273702 0.00651032]\n",
      "[0.08654464 0.13385553 0.06740679 0.09605632 0.11242854 0.13087931\n",
      " 0.09449013 0.12948391 0.1292626  0.01959221]\n",
      "[0.06018238 0.12314218 0.17059482 0.00743362 0.14192854 0.0226971\n",
      " 0.09651572 0.15063397 0.10914795 0.11772372]\n",
      "[0.06141323 0.12493634 0.10849728 0.01311569 0.10832224 0.07269428\n",
      " 0.12635731 0.1322852  0.12826692 0.1241115 ]\n",
      "0.6415786900967989\n"
     ]
    }
   ],
   "source": [
    "def nor(a):\n",
    "    return a/sum(a)\n",
    "m = len(G.edges())\n",
    "a = nor(np.random.rand(m))\n",
    "print(a)\n",
    "print(mapp(G,a))\n",
    "b = nor(np.random.rand(m))\n",
    "print(b)\n",
    "print(mapp(G,b))\n",
    "ratio = np.linalg.norm(mapp(G,a)-mapp(G,b))/np.linalg.norm(a-b)\n",
    "print(ratio)"
   ]
  },
  {
   "cell_type": "code",
   "execution_count": 24,
   "id": "e024a71d",
   "metadata": {},
   "outputs": [
    {
     "name": "stdout",
     "output_type": "stream",
     "text": [
      "0.5421159278319988\n",
      "0.46969637724691127\n"
     ]
    }
   ],
   "source": [
    "for j in range(2):\n",
    "    a = nor(np.random.rand(m))\n",
    "    b = nor(np.random.rand(m))\n",
    "    ratio = np.linalg.norm(mapp(G,a)-mapp(G,b))/np.linalg.norm(a-b)\n",
    "    print(ratio)"
   ]
  },
  {
   "cell_type": "code",
   "execution_count": 25,
   "id": "3c1e22d4",
   "metadata": {},
   "outputs": [
    {
     "name": "stdout",
     "output_type": "stream",
     "text": [
      "0.0004902092316443754\n",
      "4.942772135874888e-06\n",
      "0.010082984604950577\n"
     ]
    }
   ],
   "source": [
    "a = np.ones(len(G.edges()))\n",
    "a[0]= 1000  \n",
    "a = nor(a) \n",
    "b = np.ones(len(G.edges()))\n",
    "b[0]= 950  \n",
    "b = nor(b) \n",
    "print(np.linalg.norm(a-b))\n",
    "print(np.linalg.norm(mapp(G,a)-mapp(G,b)))\n",
    "#b = nor(np.random.rand(m))\n",
    "ratio = np.linalg.norm(mapp(G,a)-mapp(G,b))/np.linalg.norm(a-b)\n",
    "print(ratio)"
   ]
  },
  {
   "cell_type": "code",
   "execution_count": 26,
   "id": "d45727c0",
   "metadata": {},
   "outputs": [
    {
     "name": "stdout",
     "output_type": "stream",
     "text": [
      "norm =  10.541935918952888\n",
      "6.999999999999999\n"
     ]
    }
   ],
   "source": [
    "G = nx.cycle_graph(8)\n",
    "G.add_edge(0,2)\n",
    "G.add_edge(0,6)\n",
    "n =len(G)\n",
    "pos = nx.circular_layout(G)\n",
    "sigma  = nor(np.random.rand(m))\n",
    "edgepr =  np.ones(len(G.edges()))\n",
    "deri = np.ones(len(G.edges()))\n",
    "for i,(u,v) in enumerate(G.edges()):\n",
    "    G[u][v]['eta']  = sigma[i]\n",
    "for i,(u,v) in enumerate(G.edges()):\n",
    "    edgepr[i] =  sigma[i]*Reff(G,u,v)\n",
    "    deri[i]  = 2*(edgepr[i]-(edgepr[i])**2)/sigma[i]\n",
    "print('norm = ', np.sum(deri)/(n-1))\n",
    "print(np.sum(edgepr))"
   ]
  },
  {
   "cell_type": "code",
   "execution_count": 27,
   "id": "96242528",
   "metadata": {},
   "outputs": [
    {
     "name": "stdout",
     "output_type": "stream",
     "text": [
      "norm =  2.1730570846783923\n",
      "norm2 =  3.2046578496007583\n",
      "norm3 =  1.9999999999999987\n",
      "4.999999999999999\n"
     ]
    }
   ],
   "source": [
    "G = nx.erdos_renyi_graph(6,0.7)\n",
    "n =len(G)\n",
    "m =len(G.edges())\n",
    "pos = nx.circular_layout(G)\n",
    "a = nor(np.random.rand(m)) \n",
    "sigma  = mapp(G,a)\n",
    "edgepr =  np.ones(len(G.edges()))\n",
    "deri = np.ones(len(G.edges()))\n",
    "deri2= np.ones(len(G.edges()))\n",
    "deri3= np.ones(len(G.edges()))\n",
    "for i,(u,v) in enumerate(G.edges()):\n",
    "    G[u][v]['eta']  = sigma[i]\n",
    "for i,(u,v) in enumerate(G.edges()):\n",
    "    edgepr[i] =  sigma[i]*Reff(G,u,v)\n",
    "    deri[i]  = 2*(edgepr[i]-(edgepr[i])**2)/sigma[i]\n",
    "    deri2[i]  = 2*(edgepr[i])/sigma[i]\n",
    "    deri3[i]  = 2*(edgepr[i]**2)/sigma[i]\n",
    "print('norm = ', np.max(deri)/(n-1))\n",
    "print('norm2 = ', np.max(deri2)/(n-1))\n",
    "print('norm3 = ', np.max(deri3)/(n-1))\n",
    "print(np.sum(edgepr))"
   ]
  },
  {
   "cell_type": "code",
   "execution_count": 28,
   "id": "7fddf700",
   "metadata": {},
   "outputs": [
    {
     "name": "stdout",
     "output_type": "stream",
     "text": [
      "norm =  1.09462993580193\n",
      "norm2 =  2.0748552518839367\n",
      "norm3 =  1.5177252550696168\n",
      "6.999999999999997\n",
      "[0.45568035 0.56613182 0.7401635  0.41277084 0.63799025 0.55335817\n",
      " 0.61400448 0.61400448 0.63799025 0.28757886 0.7401635  0.7401635 ]\n",
      "spectral norm =  0.6851131063374759\n",
      " 1-norm =  1.0946299358019314\n"
     ]
    }
   ],
   "source": [
    "G = nx.erdos_renyi_graph(8,0.5)\n",
    "n =len(G)\n",
    "m =len(G.edges())\n",
    "pos = nx.circular_layout(G)\n",
    "a = np.ones(len(G.edges()))\n",
    "sigma  = mapp(G,a)\n",
    "edgepr =  np.ones(len(G.edges()))\n",
    "deri = np.ones(len(G.edges()))\n",
    "deri2= np.ones(len(G.edges()))\n",
    "deri3= np.ones(len(G.edges()))\n",
    "for i,(u,v) in enumerate(G.edges()):\n",
    "    G[u][v]['eta']  = sigma[i]\n",
    "for i,(u,v) in enumerate(G.edges()):\n",
    "    edgepr[i] =  sigma[i]*Reff(G,u,v)\n",
    "    deri[i]  = 2*(edgepr[i]-(edgepr[i])**2)/sigma[i]\n",
    "    deri2[i]  = 2*(edgepr[i])/sigma[i]\n",
    "    deri3[i]  = 2*(edgepr[i]**2)/sigma[i]\n",
    "print('norm = ', np.max(deri)/(n-1))\n",
    "print('norm2 = ', np.max(deri2)/(n-1))\n",
    "print('norm3 = ', np.max(deri3)/(n-1))\n",
    "print(np.sum(edgepr))\n",
    "## second way\n",
    "N = matrix(G)\n",
    "t = np.shape(N)[0]\n",
    "tree = np.ones(t)\n",
    "for i in range(t):\n",
    "    for j in range(m):\n",
    "        tree[i] = tree[i]*(sigma[j]**(N[i,j]))\n",
    "edgepro = np.matmul(np.transpose(N),tree)/(sum(tree))\n",
    "print(edgepro)\n",
    "## two edges\n",
    "towed = np.zeros([m,m])\n",
    "for k in range(m):\n",
    "    for h in range(m):\n",
    "        for l in range(t):\n",
    "            if N[l,h]*N[l,k]==1:\n",
    "                towed[k,h]= towed[k,h] +tree[l]\n",
    "## jacobian \n",
    "jar = np.zeros([m,m])\n",
    "for k in range(m):\n",
    "    for h in range(m):\n",
    "        jar[k,h] = (towed[k,h]/(sum(tree)) - edgepro[k]*edgepro[h])/sigma[h]/(n-1)\n",
    "no = np.max([2*jar[e,e] for e in range(m)])\n",
    "print('spectral norm = ',np.linalg.norm(jar, ord=2))\n",
    "print(' 1-norm = ',np.linalg.norm(jar, ord=1))"
   ]
  },
  {
   "cell_type": "markdown",
   "id": "08a307f3",
   "metadata": {
    "hide_input": true
   },
   "source": [
    "## New"
   ]
  },
  {
   "cell_type": "code",
   "execution_count": 29,
   "id": "ae60893c",
   "metadata": {},
   "outputs": [
    {
     "name": "stdout",
     "output_type": "stream",
     "text": [
      "1-norm =  2.6859872766716077\n",
      "sum eta =  7.0000000000000036\n",
      "spectral norm =  1.453205555305384\n",
      "1-norm =  2.6859872766715975\n",
      "fro-norm =  3.7835245762947767\n",
      "inf-norm =  1.77557411098778\n"
     ]
    }
   ],
   "source": [
    "G = nx.erdos_renyi_graph(8,0.6)\n",
    "n =len(G)\n",
    "m =len(G.edges())\n",
    "pos = nx.circular_layout(G)\n",
    "a = nor(np.random.rand(m)) \n",
    "sigma  = mapp(G,a)\n",
    "edgepr =  np.ones(len(G.edges()))\n",
    "deri = np.ones(len(G.edges()))\n",
    "for i,(u,v) in enumerate(G.edges()):\n",
    "    G[u][v]['eta']  = sigma[i]\n",
    "for i,(u,v) in enumerate(G.edges()):\n",
    "    edgepr[i] =  sigma[i]*Reff(G,u,v)\n",
    "    deri[i]  = 2*(edgepr[i]-(edgepr[i])**2)/sigma[i]\n",
    "print('1-norm = ', np.max(deri)/(n-1))\n",
    "print('sum eta = ',np.sum(edgepr))\n",
    "## second way\n",
    "N = matrix(G)\n",
    "t = np.shape(N)[0]\n",
    "tree = np.ones(t)\n",
    "for i in range(t):\n",
    "    for j in range(m):\n",
    "        tree[i] = tree[i]*(sigma[j]**(N[i,j]))\n",
    "edgepro = np.matmul(np.transpose(N),tree)/(sum(tree))\n",
    "## two edges\n",
    "towed = np.zeros([m,m])\n",
    "for k in range(m):\n",
    "    for h in range(m):\n",
    "        for l in range(t):\n",
    "            if N[l,h]*N[l,k]==1:\n",
    "                towed[k,h]= towed[k,h] +tree[l]\n",
    "## jacobian \n",
    "jar = np.zeros([m,m])\n",
    "for k in range(m):\n",
    "    for h in range(m):\n",
    "        jar[k,h] = (towed[k,h]/(sum(tree)) - edgepro[k]*edgepro[h])/sigma[h]/(n-1)\n",
    "no = np.max([2*jar[e,e] for e in range(m)])\n",
    "print('spectral norm = ',np.linalg.norm(jar, ord=2))\n",
    "print('1-norm = ',np.linalg.norm(jar, ord=1))\n",
    "print('fro-norm = ',np.linalg.norm(jar, ord='fro'))\n",
    "print('inf-norm = ',np.linalg.norm(jar, ord = np.inf))"
   ]
  },
  {
   "cell_type": "code",
   "execution_count": 30,
   "id": "39023bb4",
   "metadata": {},
   "outputs": [
    {
     "name": "stdout",
     "output_type": "stream",
     "text": [
      "1-norm =  72.24830952469767\n",
      "sum eta =  6.99999999999989\n",
      "spectral norm =  49.47422592022268\n",
      "1-norm =  72.2483095246982\n",
      "fro-norm =  130.85030910791622\n",
      "inf-norm =  72.24704069106396\n"
     ]
    }
   ],
   "source": [
    "G = nx.erdos_renyi_graph(8,0.6)\n",
    "n =len(G)\n",
    "m =len(G.edges())\n",
    "pos = nx.circular_layout(G)\n",
    "a = np.ones(len(G.edges()))\n",
    "a[0] = 1000\n",
    "sigma = nor(a)\n",
    "edgepr =  np.ones(len(G.edges()))\n",
    "deri = np.ones(len(G.edges()))\n",
    "for i,(u,v) in enumerate(G.edges()):\n",
    "    G[u][v]['eta']  = sigma[i]\n",
    "for i,(u,v) in enumerate(G.edges()):\n",
    "    edgepr[i] =  sigma[i]*Reff(G,u,v)\n",
    "    deri[i]  = 2*(edgepr[i]-(edgepr[i])**2)/sigma[i]\n",
    "print('1-norm = ', np.max(deri)/(n-1))\n",
    "print('sum eta = ',np.sum(edgepr))\n",
    "## second way\n",
    "N = matrix(G)\n",
    "t = np.shape(N)[0]\n",
    "tree = np.ones(t)\n",
    "for i in range(t):\n",
    "    for j in range(m):\n",
    "        tree[i] = tree[i]*(sigma[j]**(N[i,j]))\n",
    "edgepro = np.matmul(np.transpose(N),tree)/(sum(tree))\n",
    "## two edges\n",
    "towed = np.zeros([m,m])\n",
    "for k in range(m):\n",
    "    for h in range(m):\n",
    "        for l in range(t):\n",
    "            if N[l,h]*N[l,k]==1:\n",
    "                towed[k,h]= towed[k,h] +tree[l]\n",
    "## jacobian \n",
    "jar = np.zeros([m,m])\n",
    "for k in range(m):\n",
    "    for h in range(m):\n",
    "        jar[k,h] = (towed[k,h]/(sum(tree)) - edgepro[k]*edgepro[h])/sigma[h]/(n-1)\n",
    "no = np.max([2*jar[e,e] for e in range(m)])\n",
    "print('spectral norm = ',np.linalg.norm(jar, ord=2))\n",
    "print('1-norm = ',np.linalg.norm(jar, ord=1))\n",
    "print('fro-norm = ',np.linalg.norm(jar, ord='fro'))\n",
    "print('inf-norm = ',np.linalg.norm(jar, ord = np.inf))"
   ]
  },
  {
   "cell_type": "code",
   "execution_count": null,
   "id": "0afa7b32",
   "metadata": {},
   "outputs": [],
   "source": []
  }
 ],
 "metadata": {
  "kernelspec": {
   "display_name": "Python 3 (ipykernel)",
   "language": "python",
   "name": "python3"
  },
  "language_info": {
   "codemirror_mode": {
    "name": "ipython",
    "version": 3
   },
   "file_extension": ".py",
   "mimetype": "text/x-python",
   "name": "python",
   "nbconvert_exporter": "python",
   "pygments_lexer": "ipython3",
   "version": "3.9.12"
  }
 },
 "nbformat": 4,
 "nbformat_minor": 5
}
