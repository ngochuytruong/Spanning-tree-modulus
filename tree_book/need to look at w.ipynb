{
 "cells": [
  {
   "cell_type": "code",
   "execution_count": 89,
   "id": "44098ff5",
   "metadata": {},
   "outputs": [],
   "source": [
    "import networkx as nx\n",
    "import numpy as np\n",
    "import matplotlib.pyplot as plt\n",
    "from itertools import combinations\n",
    "import spanningtree as tr"
   ]
  },
  {
   "cell_type": "code",
   "execution_count": 90,
   "id": "ce77eac8",
   "metadata": {},
   "outputs": [],
   "source": [
    "#graph setup\n",
    "G = nx.cycle_graph(8)\n",
    "G.add_edge(0,2)\n",
    "G.add_edge(0,6)\n",
    "nx.add_path(G,[3,6])\n",
    "pos = nx.circular_layout(G)\n",
    "sigma  = np.ones(len(G.edges()))\n",
    "tr.assignw(G,sigma)"
   ]
  },
  {
   "cell_type": "code",
   "execution_count": 91,
   "id": "563bfb0b",
   "metadata": {},
   "outputs": [
    {
     "name": "stdout",
     "output_type": "stream",
     "text": [
      "[0.625      0.625      0.625      0.625      0.625      0.625\n",
      " 0.66666667 0.625      0.66666667 0.66666667 0.625     ]\n"
     ]
    }
   ],
   "source": [
    "weta = tr.weta(G)\n",
    "print(weta)"
   ]
  },
  {
   "cell_type": "code",
   "execution_count": 92,
   "id": "83d57df6",
   "metadata": {},
   "outputs": [
    {
     "name": "stdout",
     "output_type": "stream",
     "text": [
      "[0.14018692 0.14018692 0.14018692 0.14018692 0.14018692 0.14018692\n",
      " 0.14953271 0.14018692 0.14953271 0.14953271 0.14018692]\n"
     ]
    }
   ],
   "source": [
    "rho = tr.rhostar(G)\n",
    "print(rho)"
   ]
  },
  {
   "cell_type": "code",
   "execution_count": 93,
   "id": "3da31fcb",
   "metadata": {},
   "outputs": [
    {
     "name": "stdout",
     "output_type": "stream",
     "text": [
      "[1.         1.         1.         1.         1.         1.00934579\n",
      " 1.         1.         1.         1.00934579 1.         1.\n",
      " 1.         1.         1.         1.         1.00934579 1.\n",
      " 1.         1.         1.         1.         1.         1.00934579\n",
      " 1.         1.         1.         1.00934579 1.         1.\n",
      " 1.         1.00934579 1.         1.         1.         1.\n",
      " 1.         1.         1.00934579 1.         1.         1.\n",
      " 1.00934579 1.         1.         1.         1.         1.\n",
      " 1.         1.00934579 1.         1.         1.         1.00934579\n",
      " 1.         1.         1.         1.         1.         1.\n",
      " 1.00934579 1.         1.         1.         1.00934579 1.\n",
      " 1.         1.         1.00934579 1.         1.         1.\n",
      " 1.         1.         1.         1.00934579 1.         1.\n",
      " 1.         1.00934579 1.         1.         1.         1.\n",
      " 1.         1.         1.00934579 1.         1.         1.\n",
      " 1.00934579 1.         1.         1.         1.00934579 1.\n",
      " 1.         1.         1.         1.         1.         1.00934579\n",
      " 1.         1.         1.         1.00934579 1.         1.\n",
      " 1.         1.00934579 1.        ]\n",
      "[1. 1. 1. 1. 1. 0. 1. 1. 1. 0. 1. 1. 1. 1. 1. 1. 0. 1. 1. 1. 1. 1. 1. 0.\n",
      " 1. 1. 1. 0. 1. 1. 1. 0. 1. 1. 1. 1. 1. 1. 0. 1. 1. 1. 0. 1. 1. 1. 1. 1.\n",
      " 1. 0. 1. 1. 1. 0. 1. 1. 1. 1. 1. 1. 0. 1. 1. 1. 0. 1. 1. 1. 0. 1. 1. 1.\n",
      " 1. 1. 1. 0. 1. 1. 1. 0. 1. 1. 1. 1. 1. 1. 0. 1. 1. 1. 0. 1. 1. 1. 0. 1.\n",
      " 1. 1. 1. 1. 1. 0. 1. 1. 1. 0. 1. 1. 1. 0. 1.]\n",
      "[0.63333333 0.63333333 0.53333333 0.53333333 0.63333333 0.7\n",
      " 0.66666667 0.7        0.66666667 0.66666667 0.63333333]\n"
     ]
    }
   ],
   "source": [
    "N = tr.matrixtree(G)\n",
    "rhotree = np.matmul(N,rho)\n",
    "print(rhotree)\n",
    "for k in range(len(rhotree)):\n",
    "    if np.abs(rhotree[k] - 1) > 0.00001:\n",
    "        rhotree[k] = 0\n",
    "print(rhotree)\n",
    "print(np.matmul(np.transpose(N),rhotree)/sum(rhotree))"
   ]
  },
  {
   "cell_type": "code",
   "execution_count": 94,
   "id": "2960e995",
   "metadata": {},
   "outputs": [],
   "source": [
    "#graph setup\n",
    "G = nx.cycle_graph(8)\n",
    "G.add_edge(0,2)\n",
    "G.add_edge(0,6)\n",
    "pos = nx.circular_layout(G)\n",
    "a = 1000000000000000000\n",
    "b = (len(G) - 1)/(len(G.edges()))\n",
    "wk  = np.ones(len(G.edges()))\n",
    "for i in range(len(wk)):\n",
    "    wk[i] = a**(b - weta[i])\n",
    "tr.assignw(G,wk)"
   ]
  },
  {
   "cell_type": "code",
   "execution_count": 95,
   "id": "ef754a3f",
   "metadata": {},
   "outputs": [
    {
     "data": {
      "text/plain": [
       "array([0.65915018, 0.86766115, 0.63660072, 0.81776029, 0.65915018,\n",
       "       0.93235161, 0.61958516, 0.93235161, 0.61958516, 0.25580394])"
      ]
     },
     "execution_count": 95,
     "metadata": {},
     "output_type": "execute_result"
    }
   ],
   "source": [
    "tr.edgeprob(G)"
   ]
  },
  {
   "cell_type": "code",
   "execution_count": null,
   "id": "e85bb649",
   "metadata": {},
   "outputs": [],
   "source": []
  }
 ],
 "metadata": {
  "kernelspec": {
   "display_name": "Python 3 (ipykernel)",
   "language": "python",
   "name": "python3"
  },
  "language_info": {
   "codemirror_mode": {
    "name": "ipython",
    "version": 3
   },
   "file_extension": ".py",
   "mimetype": "text/x-python",
   "name": "python",
   "nbconvert_exporter": "python",
   "pygments_lexer": "ipython3",
   "version": "3.11.7"
  }
 },
 "nbformat": 4,
 "nbformat_minor": 5
}
