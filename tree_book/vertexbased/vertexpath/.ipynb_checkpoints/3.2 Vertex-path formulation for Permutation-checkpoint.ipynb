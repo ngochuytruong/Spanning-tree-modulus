{
 "cells": [
  {
   "cell_type": "code",
   "execution_count": 1,
   "id": "cd1b9cf4",
   "metadata": {},
   "outputs": [],
   "source": [
    "%matplotlib inline\n",
    "import matplotlib.pyplot as plt\n",
    "import networkx as nx\n",
    "import numpy as np\n",
    "import cdd\n",
    "from modulus_tools import demo_graphs\n",
    "from modulus_tools import algorithms as alg\n",
    "from itertools import product"
   ]
  },
  {
   "cell_type": "code",
   "execution_count": 2,
   "id": "074f6516",
   "metadata": {},
   "outputs": [],
   "source": [
    "######################################################################\n",
    "# import necessary libraries\n",
    "\n",
    "%matplotlib inline\n",
    "import matplotlib.pyplot as plt\n",
    "import networkx as nx\n",
    "import numpy as np\n",
    "import cvxopt as cvx\n",
    "from cvxopt.solvers import qp\n",
    "from fractions import Fraction\n",
    "import math"
   ]
  },
  {
   "cell_type": "code",
   "execution_count": 3,
   "id": "cf1fd358",
   "metadata": {},
   "outputs": [],
   "source": [
    "from itertools import combinations\n",
    "def sub_lists(my_list):\n",
    "\tsubs = []\n",
    "\tfor i in range(0, len(my_list)+1):\n",
    "\t    temp = [list(x) for x in combinations(my_list, i)]\n",
    "\t    if len(temp)>0:\n",
    "\t        subs.extend(temp)\n",
    "\treturn subs\n",
    "def good_sub_lists(my_list):\n",
    "    B= []\n",
    "    for l in sub_lists(my_list):\n",
    "        \n",
    "        if len(l)<= 1:\n",
    "            B.append(l)\n",
    "        else:\n",
    "            passed = True\n",
    "            for i in range(0,len(l)-1):\n",
    "                if l[i]>=l[i+1]:\n",
    "                    passed = False\n",
    "            if  passed:\n",
    "                B.append(l)\n",
    "    return B\n",
    "def MISS(l): \n",
    "    miss = []\n",
    "    for t  in  good_sub_lists(l):\n",
    "        passed= True\n",
    "        for s in  good_sub_lists(l):\n",
    "            if all(x in s for x in t) == True:\n",
    "                if all(x in t for x in s)== False:\n",
    "                    passed = False\n",
    "        if passed:\n",
    "            miss.append(t)\n",
    "    return miss\n",
    "def MISSR(l):\n",
    "    rows = []\n",
    "    for s in MISS(l):\n",
    "        row = len(l)*[0]\n",
    "        for i in range(len(l)):\n",
    "            if l[i] in s:\n",
    "                row[i]=1        \n",
    "        rows.append(row)\n",
    "    return rows\n",
    "def MISSI(l,s):\n",
    "    row = []\n",
    "    for i in range(len(l)):\n",
    "        if l[i] in s:                 \n",
    "            row.append(i+1)\n",
    "    return row"
   ]
  },
  {
   "cell_type": "code",
   "execution_count": 4,
   "id": "fb09ed24",
   "metadata": {},
   "outputs": [],
   "source": [
    "\n",
    "def dual(l):\n",
    "    m = len(l)\n",
    "    misss =  MISSR(l)\n",
    "    # initialize an empty list of rows for the augmented matrix\n",
    "    rows = []\n",
    "    # add rows corresponding to the constraints rho >= 0\n",
    "    for i in range(1,len(l)+1):\n",
    "        row = (m+1)*[0]\n",
    "        row[i] = 1\n",
    "        rows.append(row)   \n",
    "    # add rows corresponding to the constraints N*rho >= 1\n",
    "    for miss in misss:\n",
    "        row = [-1] + miss\n",
    "        rows.append(row)   \n",
    "    # create the polyhedron in cdd\n",
    "    mat = cdd.Matrix(rows, number_type='fraction')\n",
    "    mat.rep_type = cdd.RepType.INEQUALITY\n",
    "    poly = cdd.Polyhedron(mat)\n",
    "    ext = poly.get_generators()\n",
    "    # list of dual objects\n",
    "    dual = []\n",
    "    # loop over extreme points and directions\n",
    "    for i in range(ext.row_size):\n",
    "    \n",
    "        # skip extreme directions\n",
    "        if ext[i][0] == 0:\n",
    "            continue\n",
    "        \n",
    "        # add the vector representation of the dual object\n",
    "        dual.append(ext[i][1:])\n",
    "    print('MIRRS=',len(MISSR(l)))\n",
    "    print('dual=',len(dual))\n",
    "    return dual\n"
   ]
  },
  {
   "cell_type": "code",
   "execution_count": 5,
   "id": "989c9a9d",
   "metadata": {},
   "outputs": [],
   "source": [
    "# Efficient Python 3 Program to find\n",
    "# inverse permutation.\n",
    " \n",
    "# function to find inverse permutations\n",
    "def inversePermutation(arr) :\n",
    "    l = len(arr)\n",
    "    # To store element to index mappings\n",
    "    arr2 = [0] *l\n",
    "     \n",
    "    # Inserting position at their\n",
    "    # respective element in second array\n",
    "    for i in range(0,l) :\n",
    "        arr2[arr[i] - 1] = i + 1\n",
    "     \n",
    "    return arr2"
   ]
  },
  {
   "cell_type": "code",
   "execution_count": 26,
   "id": "ce8fb61d",
   "metadata": {},
   "outputs": [],
   "source": [
    "def DPG(l):\n",
    "    G = G = nx.DiGraph()\n",
    "    for i in range(len(l)):\n",
    "        for j in range(len(l)):\n",
    "            if i < j:\n",
    "                if l[i]<l[j]:\n",
    "                    passed= True\n",
    "                    for k in range(i,j):\n",
    "                        if l[i]<l[k]<l[j]:\n",
    "                            passed = False\n",
    "                    if passed:\n",
    "                        G.add_edge(i,j)\n",
    "    pos = nx.spring_layout(G)\n",
    "    labels = {u:(u+1)  for u in G.nodes}\n",
    "    nx.draw(G, pos, node_size=200, node_color='gray', edge_color='gray')\n",
    "    nx.draw_networkx_labels(G, pos,labels=labels, font_size=12)\n",
    "    return G"
   ]
  },
  {
   "cell_type": "code",
   "execution_count": 28,
   "id": "16ec6549",
   "metadata": {},
   "outputs": [
    {
     "name": "stdout",
     "output_type": "stream",
     "text": [
      "[1, 3, 4, 5, 2]\n",
      "[[1, 2], [1, 3, 4, 5]]\n",
      "[[1, 0, 0, 0, 1], [1, 1, 1, 1, 0]]\n",
      "MIRRS= 2\n",
      "dual= 4\n",
      "[(1, 0, 0, 0, 0), (0, 0, 0, 1, 1), (0, 0, 1, 0, 1), (0, 1, 0, 0, 1)]\n"
     ]
    },
    {
     "data": {
      "text/plain": [
       "<networkx.classes.digraph.DiGraph at 0x24caafccdf0>"
      ]
     },
     "execution_count": 28,
     "metadata": {},
     "output_type": "execute_result"
    },
    {
     "data": {
      "image/png": "[encoded data removed]",
      "text/plain": [
       "<Figure size 432x288 with 1 Axes>"
      ]
     },
     "metadata": {},
     "output_type": "display_data"
    }
   ],
   "source": [
    "l = [1,3,4,5,2]\n",
    "print(l)\n",
    "print(MISS(l))\n",
    "print(MISSR(l))\n",
    "print(dual(l))\n",
    "DPG(l)"
   ]
  },
  {
   "cell_type": "code",
   "execution_count": 29,
   "id": "d4729b29",
   "metadata": {
    "scrolled": false
   },
   "outputs": [
    {
     "name": "stdout",
     "output_type": "stream",
     "text": [
      "[4 2 6 5 8 1 7 3 9]\n",
      "[[2, 3, 9], [1, 7, 9], [1, 3, 9], [4, 6, 8, 9], [4, 6, 7, 9], [4, 5, 8, 9], [4, 5, 7, 9], [2, 6, 8, 9], [2, 6, 7, 9], [2, 5, 8, 9], [2, 5, 7, 9]]\n",
      "[[0, 1, 0, 0, 0, 0, 0, 1, 1], [0, 0, 0, 0, 0, 1, 1, 0, 1], [0, 0, 0, 0, 0, 1, 0, 1, 1], [1, 0, 1, 0, 1, 0, 0, 0, 1], [1, 0, 1, 0, 0, 0, 1, 0, 1], [1, 0, 0, 1, 1, 0, 0, 0, 1], [1, 0, 0, 1, 0, 0, 1, 0, 1], [0, 1, 1, 0, 1, 0, 0, 0, 1], [0, 1, 1, 0, 0, 0, 1, 0, 1], [0, 1, 0, 1, 1, 0, 0, 0, 1], [0, 1, 0, 1, 0, 0, 1, 0, 1]]\n",
      "MIRRS= 11\n",
      "dual= 8\n",
      "[(0, 0, 0, 0, 0, 0, 0, 0, 1), (0, 0, 0, 0, 1, 0, 1, 1, 0), (0, 0, 1, 1, 0, 0, 1, 1, 0), (0, 0, 1, 1, 0, 1, 0, 1, 0), (0, 1, 0, 0, 1, 1, 1, 0, 0), (0, 1, 1, 1, 0, 1, 0, 0, 0), (1, 1, 0, 0, 0, 1, 0, 0, 0), (1, 1, 0, 0, 0, 0, 1, 1, 0)]\n"
     ]
    },
    {
     "data": {
      "text/plain": [
       "<networkx.classes.digraph.DiGraph at 0x24c9b1d7850>"
      ]
     },
     "execution_count": 29,
     "metadata": {},
     "output_type": "execute_result"
    },
    {
     "data": {
      "image/png": "[encoded data removed]",
      "text/plain": [
       "<Figure size 432x288 with 1 Axes>"
      ]
     },
     "metadata": {},
     "output_type": "display_data"
    }
   ],
   "source": [
    "np.random.seed(54667)\n",
    "l =   np.random.permutation(range(1,10))\n",
    "print(l)\n",
    "print(MISS(l))\n",
    "print(MISSR(l))\n",
    "print(dual(l))\n",
    "DPG(l)"
   ]
  },
  {
   "cell_type": "code",
   "execution_count": null,
   "id": "52631327",
   "metadata": {},
   "outputs": [],
   "source": []
  },
  {
   "cell_type": "code",
   "execution_count": null,
   "id": "5e3156da",
   "metadata": {},
   "outputs": [],
   "source": []
  },
  {
   "cell_type": "code",
   "execution_count": null,
   "id": "3da2dcb3",
   "metadata": {},
   "outputs": [],
   "source": []
  },
  {
   "cell_type": "code",
   "execution_count": null,
   "id": "97ec03e5",
   "metadata": {},
   "outputs": [],
   "source": []
  }
 ],
 "metadata": {
  "kernelspec": {
   "display_name": "Python 3 (ipykernel)",
   "language": "python",
   "name": "python3"
  },
  "language_info": {
   "codemirror_mode": {
    "name": "ipython",
    "version": 3
   },
   "file_extension": ".py",
   "mimetype": "text/x-python",
   "name": "python",
   "nbconvert_exporter": "python",
   "pygments_lexer": "ipython3",
   "version": "3.9.12"
  }
 },
 "nbformat": 4,
 "nbformat_minor": 5
}
