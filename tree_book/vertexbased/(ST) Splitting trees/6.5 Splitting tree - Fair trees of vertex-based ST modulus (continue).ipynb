{
 "cells": [
  {
   "cell_type": "code",
   "execution_count": 21,
   "id": "dcadaadf",
   "metadata": {
    "hide_input": true,
    "tags": [
     "hide-cell"
    ]
   },
   "outputs": [],
   "source": [
    "import networkx as nx\n",
    "%matplotlib inline\n",
    "import matplotlib.pyplot as plt\n",
    "import networkx as nx\n",
    "import numpy as np\n",
    "import cdd\n",
    "from modulus_tools import demo_graphs\n",
    "from modulus_tools import algorithms as alg\n",
    "from itertools import product"
   ]
  },
  {
   "cell_type": "code",
   "execution_count": 22,
   "id": "d1973205",
   "metadata": {
    "hide_input": true,
    "tags": [
     "hide-cell"
    ]
   },
   "outputs": [],
   "source": [
    "'slit trees with weights in edges'\n",
    "def split_ew(G,w,ep):\n",
    "    for i, (u,v) in enumerate(G.edges()):\n",
    "        G[u][v]['enum'] = i\n",
    "    for (a,b) in G.edges():\n",
    "        H = G.copy()\n",
    "        H.remove_edge(a,b)\n",
    "        C =nx.connected_components(H)\n",
    "        c= list(C)\n",
    "        K = nx.Graph()\n",
    "        c0= 0\n",
    "        c1=0\n",
    "        for u,v,d in H.edges(data=True):\n",
    "            if u in c[0]:\n",
    "                if v in c[0]:\n",
    "                    c0= c0 + w[G[u][v]['enum']]\n",
    "        for u,v,d in H.edges(data=True):\n",
    "            if u in c[1]:\n",
    "                if v in c[1]:\n",
    "                    c1= c1 + w[G[u][v]['enum']]\n",
    "        if abs(c0-c1)< ep :\n",
    "            print('Splittable')\n",
    "            print((a,b))\n",
    "'split trees with weights in nodes'\n",
    "def split_dw(G,w,ep):\n",
    "    unsplittable = True\n",
    "    for (a,b) in G.edges():\n",
    "        H = G.copy()\n",
    "        H.remove_edge(a,b)\n",
    "        C =nx.connected_components(H)\n",
    "        c= list(C)\n",
    "        c0= sum(w[u] for u in c[0])\n",
    "        c1=sum(w[u] for u in c[1])\n",
    "        if abs(c0-c1)< ep+1 :\n",
    "            unsplittable = False\n",
    "            #print('Splittable')\n",
    "            #print((a,b))\n",
    "    if unsplittable is True:\n",
    "        print('not - splittable')\n",
    "    else:\n",
    "        print('splittable')\n",
    "'Minimum value of the optimal tree splitting'\n",
    "def svalue(G,w):\n",
    "    value = sum(w)\n",
    "    cut = 0\n",
    "    for (a,b) in G.edges():\n",
    "        H = G.copy()\n",
    "        H.remove_edge(a,b)\n",
    "        C =nx.connected_components(H)\n",
    "        c= list(C)\n",
    "        c0= sum(w[u] for u in c[0])\n",
    "        c1=sum(w[u] for u in c[1])\n",
    "        if abs(c0-c1) < value :\n",
    "            cut = (a,b)\n",
    "            value = abs(c0-c1)\n",
    "    return value, cut"
   ]
  },
  {
   "cell_type": "code",
   "execution_count": 23,
   "id": "90eb5c4e",
   "metadata": {
    "hide_input": true
   },
   "outputs": [],
   "source": [
    "'Computing modulus using fast algorithms'\n",
    "def MOD(G):\n",
    "    from modulus_tools.basic_algorithm import matrix_modulus, modulus\n",
    "    from modulus_tools.families.networkx_families import MinimumSpanningTree\n",
    "    from minimum_degree import VertexbasedMinimumSpanningTree\n",
    "    m = len(G.nodes())\n",
    "    pos = nx.spring_layout(G)\n",
    "    mst = VertexbasedMinimumSpanningTree(G)\n",
    "    mod, cons, rho, lam = modulus(m, matrix_modulus, mst, max_iter=400)\n",
    "    print('modulus =', mod)\n",
    "    print('rho =',rho)\n",
    "    plt.figure(figsize=(6,6))\n",
    "    nx.draw(G, pos, node_size=300, edge_color='black', width=2, node_color = np.around(rho,10), cmap=plt.cm.Set2)\n",
    "    labels = {u:u for u in G.nodes}\n",
    "    nx.draw_networkx_labels(G, pos,labels=labels, font_size=12)\n",
    "    return mod, cons, rho, lam"
   ]
  },
  {
   "cell_type": "code",
   "execution_count": 24,
   "id": "89362ca6",
   "metadata": {
    "hide_input": true
   },
   "outputs": [],
   "source": [
    "'Compute modulus exactly'\n",
    "def matrix_modulus(N, p=2, sigma=None):\n",
    "    import cvxpy as cvx\n",
    "    import numpy as np\n",
    "\n",
    "    from warnings import warn\n",
    "    \n",
    "    # problem dimension\n",
    "    m = N.shape[1]\n",
    "    \n",
    "    # set sigma to default if necessary\n",
    "    if sigma is None:\n",
    "        sigma = np.ones(m)\n",
    "    \n",
    "    # convert inputs to cvxpy constants\n",
    "    N = cvx.Constant(N)\n",
    "    sigma = cvx.Constant(sigma)\n",
    "    \n",
    "    # primal variables\n",
    "    rho = cvx.Variable(m)\n",
    "    \n",
    "    # objective\n",
    "    if p is not np.inf:\n",
    "        obj = cvx.Minimize(sigma.T@rho**p)\n",
    "    else:\n",
    "        obj = cvx.Minimize(cvx.max(cvx.multiply(sigma, rho)))\n",
    "        \n",
    "    # constraints\n",
    "    cons = [rho >= 0, N@rho >= 1]\n",
    "    \n",
    "    # set up the problem\n",
    "    prob = cvx.Problem(obj, cons)\n",
    "    \n",
    "    # attempt to solve\n",
    "    prob.solve()\n",
    "    if prob.status != 'optimal':\n",
    "        warn('cvxpy solve returned status {}'.format(prob.status))\n",
    "        \n",
    "    return prob.value, np.array(rho.value).flatten(), np.array(cons[1].dual_value).flatten()"
   ]
  },
  {
   "cell_type": "code",
   "execution_count": 25,
   "id": "e3d69f72",
   "metadata": {
    "hide_input": true
   },
   "outputs": [],
   "source": [
    "'Matrix usage of vertex-based'\n",
    "def matrixtree(G):\n",
    "    for i, (u,v) in enumerate(G.edges()):\n",
    "        G[u][v]['enum'] = i\n",
    "    # get a list of spanning trees\n",
    "    trees = list(alg.spanning_trees(G))\n",
    "    # count the number of edges\n",
    "    m = len(G.nodes)\n",
    "    # initialize an empty list of rows for the augmented matrix\n",
    "    rows = []\n",
    "    for tree in trees:\n",
    "        H = nx.Graph(tree)\n",
    "        row = m*[0]\n",
    "        for u in H.nodes:\n",
    "            row[u] = H.degree[u]\n",
    "        rows.append(row) \n",
    "    return np.array(rows)"
   ]
  },
  {
   "cell_type": "code",
   "execution_count": 26,
   "id": "5daaf41f",
   "metadata": {
    "hide_input": false,
    "scrolled": true
   },
   "outputs": [],
   "source": [
    "''\n",
    "def drawfair(G,ep):\n",
    "    'Modulus'\n",
    "    trees = list(alg.spanning_trees(G))\n",
    "    N = matrixtree(G)\n",
    "    mod,rho,lamb = matrix_modulus(N,p=2, sigma=None)\n",
    "    'lambda'\n",
    "    la = np.round(lamb/sum(lamb),8)\n",
    "    'Draw G'\n",
    "    n= len(G.nodes())\n",
    "    pos = dict( zip( g.nodes(), g.nodes() ))\n",
    "    nx.draw(G, pos, node_size=20, node_color =np.round(rho,5), edge_color='tab:blue', width=2)\n",
    "    'weights in nodes to split'\n",
    "    w = np.ones(n)\n",
    "    ncol = 4\n",
    "    nrow = int(np.ceil(400/ncol))\n",
    "    plt.figure(figsize=(3*ncol,3*nrow))\n",
    "    'draw fair trees'\n",
    "    a=0\n",
    "    b=0\n",
    "    c=0\n",
    "    for i,tree in enumerate(trees):\n",
    "        if la[i]>0:\n",
    "            a=a+1\n",
    "            H= nx.Graph(tree)\n",
    "            plt.subplot(nrow,ncol,a)\n",
    "            value,cut = svalue(H,w)\n",
    "            'draw splitable fair trees'\n",
    "            if value < ep+1:\n",
    "                c=c+1\n",
    "                pos = nx.spring_layout(H)\n",
    "                ax = plt.gca()\n",
    "                ax.set_title(la[i])\n",
    "                nx.draw(H, pos, node_size=20, edge_color='tab:blue', width=2, node_color = 'black')\n",
    "                labels = {cut:value}\n",
    "                nx.draw_networkx_edge_labels(G, pos, edge_labels=labels, font_size=12)\n",
    "            else:\n",
    "                'draw unsplitable fair trees'\n",
    "                b=b+1\n",
    "                pos = nx.spring_layout(H)\n",
    "                ax = plt.gca()\n",
    "                ax.set_title(la[i])\n",
    "                nx.draw(H, pos, node_size=20, edge_color='yellow', width=2, node_color = 'black',ax=ax)\n",
    "                labels = {cut:value}\n",
    "                nx.draw_networkx_edge_labels(G, pos, edge_labels=labels, font_size=12)\n",
    "    print('Number of trees = ',len(trees))\n",
    "    print('Number of fair trees = ',a)\n",
    "    print('Number of splittable fair trees =',c)\n",
    "    print('Number of unsplittable fair trees =',b)\n",
    "    expected = 0\n",
    "    for i,tree in enumerate(trees):\n",
    "        H= nx.Graph(tree)\n",
    "        value,cut = svalue(H,w)\n",
    "        expected = expected + la[i]*value\n",
    "    print('Expected value of the best cut of a tree= ',expected)\n",
    "    \n",
    "    'Probability of being unsplittable for a tree'\n",
    "    Probability = 0\n",
    "    for i,tree in enumerate(trees):\n",
    "        H= nx.Graph(tree)\n",
    "        value,cut = svalue(H,w)\n",
    "        if value > ep:\n",
    "            Probability = Probability + la[i]\n",
    "    print('Probability of being unsplittable for a tree',Probability )\n",
    "    var = (1/mod)/n - ((2*n-2)**2)/(n**2)\n",
    "    print('Variance of the node usage = ',round(var,5))\n",
    "    la = np.round(lamb/sum(lamb),8)\n",
    "    print('Maximum value of mu*=',max(la))        \n",
    "        "
   ]
  },
  {
   "cell_type": "code",
   "execution_count": 27,
   "id": "a2ff70a7",
   "metadata": {
    "hide_input": false
   },
   "outputs": [],
   "source": [
    "def drawbadfair(G,ep):\n",
    "    trees = list(alg.spanning_trees(G))\n",
    "    N = matrixtree(G)\n",
    "    mod,rho,lamb = matrix_modulus(N,p=2, sigma=None)\n",
    "    la = np.round(lamb/sum(lamb),8)\n",
    "    n= len(G.nodes())\n",
    "    pos = nx.spring_layout(G, seed = 123)\n",
    "    nx.draw(G, pos, node_size=20, node_color =np.round(rho,5), edge_color='tab:blue', width=2)\n",
    "    #G = nx.random_geometric_graph(n, 0.3, seed=seed)\n",
    "    w = np.ones(n)\n",
    "    ncol = 4\n",
    "    nrow = int(np.ceil(400/ncol))\n",
    "    plt.figure(figsize=(3*ncol,3*nrow))\n",
    "    a=0\n",
    "    b=0\n",
    "    \n",
    "    for i,tree in enumerate(trees):\n",
    "        if la[i]>0:\n",
    "            a=a+1\n",
    "            H= nx.Graph(tree)\n",
    "            value,cut = svalue(H,w)\n",
    "            if value > ep:\n",
    "                b=b+1\n",
    "                plt.subplot(nrow,ncol,b)    \n",
    "                pos = nx.spring_layout(H)\n",
    "                ax = plt.gca()\n",
    "                ax.set_title(la[i])\n",
    "                nx.draw(H, pos, node_size=20, edge_color='yellow', width=2, node_color = 'black', ax =ax)    \n",
    "                labels = {cut:value}\n",
    "                nx.draw_networkx_edge_labels(G, pos, edge_labels=labels, font_size=12)\n",
    "    print('Number of trees = ',len(trees))\n",
    "    print('Number of fair trees = ',a)\n",
    "    print('Number of unsplittable fair trees =',b)\n",
    "    expected = 0\n",
    "    for i,tree in enumerate(trees):\n",
    "        H= nx.Graph(tree)\n",
    "        value,cut = svalue(H,w)\n",
    "        expected = expected + la[i]*value\n",
    "    print('Expected value of the best cut of a tree = ',expected)\n",
    "    \n",
    "    'Probability of being unsplittable for a tree'\n",
    "    Probability = 0\n",
    "    for i,tree in enumerate(trees):\n",
    "        H= nx.Graph(tree)\n",
    "        value,cut = svalue(H,w)\n",
    "        if value > ep:\n",
    "            Probability = Probability + la[i]\n",
    "    print('Probability of being unsplittable for a tree',Probability )\n",
    "    var = (1/mod)/n - ((2*n-2)**2)/(n**2)\n",
    "    print('Variance of the node usage = ',round(var,5))\n",
    "    la = np.round(lamb/sum(lamb),8)\n",
    "    print('Maximum value of mu*=',max(la)) "
   ]
  },
  {
   "cell_type": "code",
   "execution_count": null,
   "id": "790b4620",
   "metadata": {},
   "outputs": [],
   "source": []
  },
  {
   "cell_type": "markdown",
   "id": "104d41f0",
   "metadata": {},
   "source": [
    "## Splittability\n",
    "Given a tree $\\gamma$, the removal of an edge $e \\in \\gamma$ creates two components $\\gamma_1$, $\\gamma_2$, denote $ c(e) := \\lvert n_1- n_2\\rvert$ where $n_1$ and $n_2$ are the numbers of nodes of $\\gamma_1$ and $\\gamma_2$ respectively. Then,  denote the value of the best cut by $c(\\gamma) := \\min\\limits_{e \\in \\gamma} c(e)$. A tree $\\gamma$ is said to be splittable if $c(\\gamma) \\leq 1$ and unsplittable otherwise."
   ]
  },
  {
   "cell_type": "markdown",
   "id": "4b972359",
   "metadata": {},
   "source": [
    "## Vertex-based spanning tree modulus\n",
    "\n",
    "Let $G(V,E)$ be a connected graph, and let $\\Gamma$ be the family of spanning trees. For each spanning tree $\\gamma \\in \\Gamma$, we associate this spanning with a usage vector in $\\mathbb{R}^V$ as follows: $ \\mathcal{N}(\\gamma, v) = \\deg_{\\gamma}(v) \\text{ for all } \\gamma \\in \\Gamma\n",
    " \\text{ and } v \\in V$.\n",
    "\n",
    "A *density* on $G$ is a non-negative vector $\\rho\\in\\mathbb{R}^V_{\\ge 0}$. This induces on each $\\gamma\\in\\Gamma$ a *total usage cost*, defined as\n",
    "\n",
    "$$\n",
    "\\ell_\\rho(\\gamma) := \\sum_{v\\in V}\\mathcal{N}(\\gamma,v)\\rho(v).\n",
    "$$\n",
    " A density $\\rho\\in\\mathbb{R}^V_{\\ge 0}$ is said to be *admissible for $\\Gamma$* if $\\ell_{\\rho}(\\gamma)\\ge 1$ for every $\\gamma\\in\\Gamma$. In other words, $\\rho$ is admissible if and only if $\\mathcal{N}\\rho\\ge\\mathbf{1}$ .\n",
    " \n",
    "The *Vertex-based spanning tree modulus $\\text{Mod}_2(\\Gamma)$* is defined as follows\n",
    "\n",
    "$$\n",
    "\\begin{split}\n",
    "\\text{minimize}\\quad&\\sum\\limits_{v\\in V}\\rho(v)^2\\\\\n",
    "\\text{subject to}\\quad&\\rho\\in\\mathbb{R}^V_{\\ge 0}\\\\\n",
    "&\\mathcal{N}\\rho\\ge\\mathbf{1}.\n",
    "\\end{split}\n",
    "$$\n",
    "\n",
    "Let $\\rho^*$ be the unique minimizer, then $\\rho^*$ is called an *optimal density* or *extremal density*."
   ]
  },
  {
   "cell_type": "markdown",
   "id": "8909f3c2",
   "metadata": {},
   "source": [
    "## Probabilistic interpretation\n",
    "\n",
    "Let $\\mathcal{P}(\\Gamma)$ be the set of all *probability mass function (pmf)* of $\\Gamma$, then $\\text{Mod}_2(\\Gamma)^{-1}$ is the value of the following optimization problem\n",
    "$$\n",
    "\\begin{split}\n",
    "\\text{minimize}\\quad&\\sum\\limits_{v\\in V}\\eta(v)^2\\\\\n",
    "\\text{subject to}\\quad&\\eta\\in\\mathbb{R}^V_{\\ge 0}\\\\\n",
    "&\\eta = \\mathbb{E}_{\\mu} \\left[ \\mathcal{N}(\\underline{\\gamma},v) \\right]\\\\\n",
    "&\\mu \\in \\mathcal{P}(\\Gamma).\n",
    "\\end{split}\n",
    "$$\n",
    "\n",
    "The optimal pmf $\\mu^*$ is not unique and the optimal density $\\eta^*$ is unique. Notice that by the handshaking lemma, we have\n",
    "\n",
    "$$ \\sum\\limits_{v\\in V}\\mathcal{N}(\\gamma,v) = 2(|V|-1) \\text{ for all } \\gamma \\in \\Gamma .$$\n",
    " Given any pmf $\\mu \\in \\mathcal{P}(\\Gamma)$, let  $\\eta(v)= \\mathbb{E}_{\\mu} \\left[ \\mathcal{N}(\\underline{\\gamma},v) \\right]$, then we have $\\sum\\limits_{v\\in V} \\eta(v) = 2(|V|-1)$. \n",
    "\n",
    "Let $n = |V|$, we have $$ {\\rm Var}(\\eta) = \\mathbb{E}[\\eta^2] - (\\mathbb{E}[\\eta])^2 = \\frac{1}{n}\\sum\\limits_{v\\in V}\\eta(v)^2 - \\left( \\frac{2n-2}{n} \\right)^2 $$\n",
    "\n",
    "Hence, minimizing $\\sum\\limits_{v\\in V}\\eta(v)^2$ is equivalent to minimizing ${\\rm Var}(\\eta)$. $G$ is said to be homogeneous if the the optimal density $\\eta^*$ is constant, i.e, ${\\rm Var}(\\eta^*$) =0.\n",
    "\n",
    "A spanning tree $\\gamma \\in \\Gamma$ is called a  *fair tree* if there exists an optimal pmf $\\mu^*$ such that $\\mu^*(\\gamma)>0.$ The set of all fair spanning trees for $G$ is denoted by $\\Gamma^f$. A spanning tree which is  not a fair tree is called a *forbidden tree*.\n"
   ]
  },
  {
   "cell_type": "markdown",
   "id": "00f710fd",
   "metadata": {},
   "source": [
    "## Fair trees and splittable trees.\n",
    "\n",
    "We are interested in vertex-based spanning tree modulus and want to study the relation between fair trees and splittable trees. Let $\\mu^*$ be a optimal pmf of the vertex-based spanning tree modulus problem. Based on $\\mu^*$, we compute the followings:\n",
    " \n",
    "1. We list all the fair trees that are unsplittable (yellow trees) and the fair trees that are splittable (blue trees) if they are not too many. The number above each tree is $\\mu^*$ and the edge with a number on it is a best cut. \n",
    "\n",
    "2. Given a optimal pmf $\\mu^*$, we compute the expected value of the $c(\\gamma)$ and the probability of $\\gamma$ being unsplittable.\n",
    "\n",
    "3. We compute the variance of the node usage ${\\rm Var}(\\eta^*$).\n",
    "\n",
    "4. We compute $|| \\mu^*||_{\\infty}$\n",
    "\n",
    "\n",
    "Here are some example:"
   ]
  },
  {
   "cell_type": "markdown",
   "id": "15de6d94",
   "metadata": {},
   "source": [
    "Example 1: The Square graph with a diagonal"
   ]
  },
  {
   "cell_type": "code",
   "execution_count": 28,
   "id": "76d201d6",
   "metadata": {
    "hide_input": true,
    "scrolled": false
   },
   "outputs": [
    {
     "ename": "NameError",
     "evalue": "name 'g' is not defined",
     "output_type": "error",
     "traceback": [
      "\u001b[1;31m---------------------------------------------------------------------------\u001b[0m",
      "\u001b[1;31mNameError\u001b[0m                                 Traceback (most recent call last)",
      "Input \u001b[1;32mIn [28]\u001b[0m, in \u001b[0;36m<cell line: 10>\u001b[1;34m()\u001b[0m\n\u001b[0;32m      3\u001b[0m nx\u001b[38;5;241m.\u001b[39madd_path(G,(\u001b[38;5;241m1\u001b[39m,\u001b[38;5;241m3\u001b[39m))\n\u001b[0;32m      4\u001b[0m \u001b[38;5;66;03m#N = matrixtree(G)\u001b[39;00m\n\u001b[0;32m      5\u001b[0m \u001b[38;5;66;03m#n = len(G.nodes())\u001b[39;00m\n\u001b[0;32m      6\u001b[0m \u001b[38;5;66;03m#mod,rho,lamb = matrix_modulus(N,p=2, sigma=None)\u001b[39;00m\n\u001b[0;32m      7\u001b[0m \u001b[38;5;66;03m#print(rho)\u001b[39;00m\n\u001b[0;32m      8\u001b[0m \u001b[38;5;66;03m#la = np.round(lamb/sum(lamb),8)\u001b[39;00m\n\u001b[0;32m      9\u001b[0m \u001b[38;5;66;03m#print(la)\u001b[39;00m\n\u001b[1;32m---> 10\u001b[0m \u001b[43mdrawfair\u001b[49m\u001b[43m(\u001b[49m\u001b[43mG\u001b[49m\u001b[43m,\u001b[49m\u001b[38;5;241;43m1\u001b[39;49m\u001b[43m)\u001b[49m\n",
      "Input \u001b[1;32mIn [26]\u001b[0m, in \u001b[0;36mdrawfair\u001b[1;34m(G, ep)\u001b[0m\n\u001b[0;32m      9\u001b[0m \u001b[38;5;124m'\u001b[39m\u001b[38;5;124mDraw G\u001b[39m\u001b[38;5;124m'\u001b[39m\n\u001b[0;32m     10\u001b[0m n\u001b[38;5;241m=\u001b[39m \u001b[38;5;28mlen\u001b[39m(G\u001b[38;5;241m.\u001b[39mnodes())\n\u001b[1;32m---> 11\u001b[0m pos \u001b[38;5;241m=\u001b[39m \u001b[38;5;28mdict\u001b[39m( \u001b[38;5;28mzip\u001b[39m( \u001b[43mg\u001b[49m\u001b[38;5;241m.\u001b[39mnodes(), g\u001b[38;5;241m.\u001b[39mnodes() ))\n\u001b[0;32m     12\u001b[0m nx\u001b[38;5;241m.\u001b[39mdraw(G, pos, node_size\u001b[38;5;241m=\u001b[39m\u001b[38;5;241m20\u001b[39m, node_color \u001b[38;5;241m=\u001b[39mnp\u001b[38;5;241m.\u001b[39mround(rho,\u001b[38;5;241m5\u001b[39m), edge_color\u001b[38;5;241m=\u001b[39m\u001b[38;5;124m'\u001b[39m\u001b[38;5;124mtab:blue\u001b[39m\u001b[38;5;124m'\u001b[39m, width\u001b[38;5;241m=\u001b[39m\u001b[38;5;241m2\u001b[39m)\n\u001b[0;32m     13\u001b[0m \u001b[38;5;124m'\u001b[39m\u001b[38;5;124mweights in nodes to split\u001b[39m\u001b[38;5;124m'\u001b[39m\n",
      "\u001b[1;31mNameError\u001b[0m: name 'g' is not defined"
     ]
    }
   ],
   "source": [
    "G = nx.Graph()\n",
    "nx.add_path(G,(0,1,2,3,0))\n",
    "nx.add_path(G,(1,3))\n",
    "#N = matrixtree(G)\n",
    "#n = len(G.nodes())\n",
    "#mod,rho,lamb = matrix_modulus(N,p=2, sigma=None)\n",
    "#print(rho)\n",
    "#la = np.round(lamb/sum(lamb),8)\n",
    "#print(la)\n",
    "drawfair(G,1)"
   ]
  },
  {
   "cell_type": "markdown",
   "id": "434cfa95",
   "metadata": {},
   "source": [
    "Example 2: Grid $3 \\times 4$"
   ]
  },
  {
   "cell_type": "code",
   "execution_count": null,
   "id": "3966aebb",
   "metadata": {
    "hide_input": true,
    "scrolled": false
   },
   "outputs": [],
   "source": [
    "G = nx.Graph()\n",
    "nx.add_path(G,(0,1,2,3,4,5,6,7,8,9,10,11,4))\n",
    "nx.add_path(G,(2,5,10))\n",
    "nx.add_path(G,(1,6,9))\n",
    "nx.add_path(G,(0,7))\n",
    "drawbadfair(G,1)\n"
   ]
  },
  {
   "cell_type": "markdown",
   "id": "e3e3dbb9",
   "metadata": {},
   "source": [
    "Example 3: Complete graph with $n =5$."
   ]
  },
  {
   "cell_type": "code",
   "execution_count": null,
   "id": "71f0aca6",
   "metadata": {
    "hide_input": true,
    "scrolled": false
   },
   "outputs": [],
   "source": [
    "G = nx. complete_graph(5)\n",
    "drawbadfair(G,1)\n",
    "#N = matrixtree(G)\n",
    "#mod,rho,lamb = matrix_modulus(N,p=2, sigma=None)\n",
    "#la = np.round(lamb/sum(lamb),8)\n",
    "#n = len(G.nodes())\n",
    "#print(rho)\n",
    "#print(la)"
   ]
  }
 ],
 "metadata": {
  "kernelspec": {
   "display_name": "Python 3 (ipykernel)",
   "language": "python",
   "name": "python3"
  },
  "language_info": {
   "codemirror_mode": {
    "name": "ipython",
    "version": 3
   },
   "file_extension": ".py",
   "mimetype": "text/x-python",
   "name": "python",
   "nbconvert_exporter": "python",
   "pygments_lexer": "ipython3",
   "version": "3.9.12"
  }
 },
 "nbformat": 4,
 "nbformat_minor": 5
}
